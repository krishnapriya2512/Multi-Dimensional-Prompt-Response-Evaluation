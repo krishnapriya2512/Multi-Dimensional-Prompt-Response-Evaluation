{
 "cells": [
  {
   "cell_type": "markdown",
   "id": "960ff9fb-870e-4e66-b356-dfc1319f3a74",
   "metadata": {},
   "source": [
    "# GPT vs Traditional Models Performance for Tasks\n",
    "\n",
    "Aim:  Evaluate and Compare the Performance of Generative AI models VS Traditional NLP approaches\n",
    "\n",
    "### Table of Contents\n",
    "1. [Sentiment Analysis](#section1)             \n",
    "    1.1 [Importing Libraries and Loading Dataset](#subsection1)   \n",
    "    1.2 [Text Preprocessing](#subsection2)                    \n",
    "    1.3 [Text Vectorisation](#subsection3)                       \n",
    "    1.4 [Traditional Model Training and Evaluation](#subsection4)                \n",
    "    1.5 [Hyperparameter Tuning Logistic Regression and SVM](#subsection5)                 \n",
    "    1.6 [Traditional Model Visualisation and Insights](#subsection6)               \n",
    "    1.7 [Transformer Based Model training](#subsection7)              \n",
    "    1.8 [Transformer Based Model Evaluation](#subsection8)                                \n",
    "    1.9 [Transformer Based Model Visualisation](#subsection9)          \n",
    "2. [Text Summarisation](#section2)                                     \n",
    "    2.1 [Importing Libraries and Loading Dataset](#subsection10)        \n",
    "    2.2 [Traditional Text Summarisation using Sumy](#subsection11)                \n",
    "    2.3 [Transformer Based Model Text Summarisation](#subsection12)              \n",
    "    2.4 [Evalaution of Tranditional and Transformer Models](#subsection13)           \n",
    "    2.5 [Visualisation and Insights](#subsection14)           \n",
    " "
   ]
  },
  {
   "cell_type": "markdown",
   "id": "b47621b1-cc01-4815-b2df-fb70de41c0d7",
   "metadata": {},
   "source": [
    "## 1. Sentiment Analysis <a id=\"section1\"></a>\n",
    "\n",
    "Compare the predictions of Sentiment Analysis by both Traditonal NLP Technique as well as using BERT Model "
   ]
  },
  {
   "cell_type": "markdown",
   "id": "dfd30c8d-b4d4-4c13-8989-28ed78245492",
   "metadata": {},
   "source": [
    "### 1.1 Importing Necessary Libraries <a id=\"subsection1\"></a>"
   ]
  },
  {
   "cell_type": "code",
   "execution_count": 1,
   "id": "c765dd0a-cf0b-49a0-bfc2-f5542e31199c",
   "metadata": {},
   "outputs": [],
   "source": [
    "import pandas as pd\n",
    "import numpy as np\n",
    "import nltk\n",
    "import re\n",
    "import string\n",
    "import unidecode\n",
    "import spacy \n",
    "import tqdm as notebook_tqdm\n",
    "from spacy.lang.en.stop_words import STOP_WORDS\n",
    "from vaderSentiment.vaderSentiment import SentimentIntensityAnalyzer\n",
    "from scipy.sparse import hstack, csr_matrix\n",
    "from sklearn.naive_bayes import MultinomialNB\n",
    "from sklearn.metrics import classification_report"
   ]
  },
  {
   "cell_type": "code",
   "execution_count": 2,
   "id": "2da9a013-567c-4e8d-a12b-ccc9c449e3e6",
   "metadata": {
    "scrolled": true
   },
   "outputs": [],
   "source": [
    "from datasets import load_dataset\n",
    "dataset = load_dataset(\"amazon_polarity\")  \n"
   ]
  },
  {
   "cell_type": "code",
   "execution_count": 3,
   "id": "1631dcbf-59ef-45b5-a531-997188fd9d3b",
   "metadata": {},
   "outputs": [
    {
     "data": {
      "text/html": [
       "<div>\n",
       "<style scoped>\n",
       "    .dataframe tbody tr th:only-of-type {\n",
       "        vertical-align: middle;\n",
       "    }\n",
       "\n",
       "    .dataframe tbody tr th {\n",
       "        vertical-align: top;\n",
       "    }\n",
       "\n",
       "    .dataframe thead th {\n",
       "        text-align: right;\n",
       "    }\n",
       "</style>\n",
       "<table border=\"1\" class=\"dataframe\">\n",
       "  <thead>\n",
       "    <tr style=\"text-align: right;\">\n",
       "      <th></th>\n",
       "      <th>label</th>\n",
       "      <th>title</th>\n",
       "      <th>content</th>\n",
       "    </tr>\n",
       "  </thead>\n",
       "  <tbody>\n",
       "    <tr>\n",
       "      <th>0</th>\n",
       "      <td>1</td>\n",
       "      <td>Stuning even for the non-gamer</td>\n",
       "      <td>This sound track was beautiful! It paints the ...</td>\n",
       "    </tr>\n",
       "    <tr>\n",
       "      <th>1</th>\n",
       "      <td>1</td>\n",
       "      <td>The best soundtrack ever to anything.</td>\n",
       "      <td>I'm reading a lot of reviews saying that this ...</td>\n",
       "    </tr>\n",
       "    <tr>\n",
       "      <th>2</th>\n",
       "      <td>1</td>\n",
       "      <td>Amazing!</td>\n",
       "      <td>This soundtrack is my favorite music of all ti...</td>\n",
       "    </tr>\n",
       "    <tr>\n",
       "      <th>3</th>\n",
       "      <td>1</td>\n",
       "      <td>Excellent Soundtrack</td>\n",
       "      <td>I truly like this soundtrack and I enjoy video...</td>\n",
       "    </tr>\n",
       "    <tr>\n",
       "      <th>4</th>\n",
       "      <td>1</td>\n",
       "      <td>Remember, Pull Your Jaw Off The Floor After He...</td>\n",
       "      <td>If you've played the game, you know how divine...</td>\n",
       "    </tr>\n",
       "  </tbody>\n",
       "</table>\n",
       "</div>"
      ],
      "text/plain": [
       "   label                                              title  \\\n",
       "0      1                     Stuning even for the non-gamer   \n",
       "1      1              The best soundtrack ever to anything.   \n",
       "2      1                                           Amazing!   \n",
       "3      1                               Excellent Soundtrack   \n",
       "4      1  Remember, Pull Your Jaw Off The Floor After He...   \n",
       "\n",
       "                                             content  \n",
       "0  This sound track was beautiful! It paints the ...  \n",
       "1  I'm reading a lot of reviews saying that this ...  \n",
       "2  This soundtrack is my favorite music of all ti...  \n",
       "3  I truly like this soundtrack and I enjoy video...  \n",
       "4  If you've played the game, you know how divine...  "
      ]
     },
     "execution_count": 3,
     "metadata": {},
     "output_type": "execute_result"
    }
   ],
   "source": [
    "# Convert the training split to a Pandas DataFrame\n",
    "df_train = dataset[\"train\"].to_pandas()  \n",
    "\n",
    "df_train.head()"
   ]
  },
  {
   "cell_type": "code",
   "execution_count": 4,
   "id": "3d435124-4426-4395-b586-fbd4d87e7708",
   "metadata": {},
   "outputs": [
    {
     "data": {
      "text/html": [
       "<div>\n",
       "<style scoped>\n",
       "    .dataframe tbody tr th:only-of-type {\n",
       "        vertical-align: middle;\n",
       "    }\n",
       "\n",
       "    .dataframe tbody tr th {\n",
       "        vertical-align: top;\n",
       "    }\n",
       "\n",
       "    .dataframe thead th {\n",
       "        text-align: right;\n",
       "    }\n",
       "</style>\n",
       "<table border=\"1\" class=\"dataframe\">\n",
       "  <thead>\n",
       "    <tr style=\"text-align: right;\">\n",
       "      <th></th>\n",
       "      <th>label</th>\n",
       "      <th>title</th>\n",
       "      <th>content</th>\n",
       "    </tr>\n",
       "  </thead>\n",
       "  <tbody>\n",
       "    <tr>\n",
       "      <th>0</th>\n",
       "      <td>1</td>\n",
       "      <td>Great CD</td>\n",
       "      <td>My lovely Pat has one of the GREAT voices of h...</td>\n",
       "    </tr>\n",
       "    <tr>\n",
       "      <th>1</th>\n",
       "      <td>1</td>\n",
       "      <td>One of the best game music soundtracks - for a...</td>\n",
       "      <td>Despite the fact that I have only played a sma...</td>\n",
       "    </tr>\n",
       "    <tr>\n",
       "      <th>2</th>\n",
       "      <td>0</td>\n",
       "      <td>Batteries died within a year ...</td>\n",
       "      <td>I bought this charger in Jul 2003 and it worke...</td>\n",
       "    </tr>\n",
       "    <tr>\n",
       "      <th>3</th>\n",
       "      <td>1</td>\n",
       "      <td>works fine, but Maha Energy is better</td>\n",
       "      <td>Check out Maha Energy's website. Their Powerex...</td>\n",
       "    </tr>\n",
       "    <tr>\n",
       "      <th>4</th>\n",
       "      <td>1</td>\n",
       "      <td>Great for the non-audiophile</td>\n",
       "      <td>Reviewed quite a bit of the combo players and ...</td>\n",
       "    </tr>\n",
       "  </tbody>\n",
       "</table>\n",
       "</div>"
      ],
      "text/plain": [
       "   label                                              title  \\\n",
       "0      1                                           Great CD   \n",
       "1      1  One of the best game music soundtracks - for a...   \n",
       "2      0                   Batteries died within a year ...   \n",
       "3      1              works fine, but Maha Energy is better   \n",
       "4      1                       Great for the non-audiophile   \n",
       "\n",
       "                                             content  \n",
       "0  My lovely Pat has one of the GREAT voices of h...  \n",
       "1  Despite the fact that I have only played a sma...  \n",
       "2  I bought this charger in Jul 2003 and it worke...  \n",
       "3  Check out Maha Energy's website. Their Powerex...  \n",
       "4  Reviewed quite a bit of the combo players and ...  "
      ]
     },
     "execution_count": 4,
     "metadata": {},
     "output_type": "execute_result"
    }
   ],
   "source": [
    "# Convert the test split to Pandas DataFrame\n",
    "df_test = dataset[\"test\"].to_pandas()\n",
    "\n",
    "df_test.head()"
   ]
  },
  {
   "cell_type": "markdown",
   "id": "330aabbc-8fe7-469b-9a5c-48b4ef6fcb52",
   "metadata": {},
   "source": [
    "### 1.2 Text Preprocessing <a id=\"subsection2\"></a>\n"
   ]
  },
  {
   "cell_type": "code",
   "execution_count": 5,
   "id": "76fff564-296d-4adc-9368-f205b142b707",
   "metadata": {},
   "outputs": [],
   "source": [
    "# Intialising Lemmatizer and stopwords\n",
    "from nltk.stem import WordNetLemmatizer\n",
    "\n",
    "lemmatizer = WordNetLemmatizer()\n",
    "stopwords = nltk.corpus.stopwords.words(\"english\")\n",
    "\n",
    "# Defining a preprocessor of data cleaning\n",
    "def preprocessor(tweet):\n",
    "    \n",
    "    # Removal of user handles\n",
    "    tweet = re.sub('@[\\w\\-]+','', tweet)\n",
    "    \n",
    "    # Coverting the string into lower case\n",
    "    tweet = str(tweet).lower()\n",
    "    \n",
    "    tweet = re.sub('\\[.*?\\]','',tweet)\n",
    "    \n",
    "    # Removal of HTML linkups\n",
    "    tweet = re.sub('http[s]?://(?:[a-zA-Z]|[0-9]|[$-_@.&+]|''[!*\\(\\),]|(?:%[0-9a-fA-F][0-9a-fA-F]))+','',tweet)\n",
    "    tweet = re.sub('<.*?>+', '', tweet)\n",
    "    \n",
    "    # Removal of punctuations\n",
    "    tweet = re.sub('[%s]' % re.escape(string.punctuation), '', tweet)\n",
    "    tweet = re.sub('\\n','',tweet)\n",
    "    tweet = re.sub('\\w*\\d\\w*', '', tweet)\n",
    "    \n",
    "    # Removal of stopwords\n",
    "    tweet = [word for word in tweet.split(' ') if word not in stopwords]\n",
    "    \n",
    "    #removal of greek characters\n",
    "    tweet = [' '.join([unidecode.unidecode(word) for word in str(t).split()]) if t is not None else t for t in tweet]\n",
    "    \n",
    "    #lemmetizing of tweets\n",
    "    tweet = [\" \".join(lemmatizer.lemmatize(word) for word in t.split()) for t in tweet]\n",
    "    \n",
    "    tweet = \" \".join(tweet)\n",
    "    return tweet"
   ]
  },
  {
   "cell_type": "code",
   "execution_count": 6,
   "id": "01ec7bf9-b86f-4169-9b77-3139fa7c0931",
   "metadata": {},
   "outputs": [],
   "source": [
    "# Sampling test_df\n",
    "df_test_sample = df_test.sample(n=50000, random_state=101) "
   ]
  },
  {
   "cell_type": "code",
   "execution_count": 7,
   "id": "d740ba9a-71fb-460a-b149-52843ae33308",
   "metadata": {},
   "outputs": [
    {
     "data": {
      "text/plain": [
       "(50000, 3)"
      ]
     },
     "execution_count": 7,
     "metadata": {},
     "output_type": "execute_result"
    }
   ],
   "source": [
    "df_test_sample.shape"
   ]
  },
  {
   "cell_type": "code",
   "execution_count": 8,
   "id": "2d55c67d-dd8f-42ed-b66c-edaa6c74fd7e",
   "metadata": {},
   "outputs": [],
   "source": [
    "# Sampling train_df\n",
    "df_train_sample = df_train.sample(n=100000, random_state=42)  # Random sample"
   ]
  },
  {
   "cell_type": "code",
   "execution_count": 9,
   "id": "7348e661-530f-45df-ac04-3ce80d9833a4",
   "metadata": {},
   "outputs": [
    {
     "data": {
      "text/plain": [
       "(100000, 3)"
      ]
     },
     "execution_count": 9,
     "metadata": {},
     "output_type": "execute_result"
    }
   ],
   "source": [
    "df_train_sample.shape"
   ]
  },
  {
   "cell_type": "code",
   "execution_count": 10,
   "id": "ebfb0a9e-5014-4780-93c9-d87951e8521e",
   "metadata": {},
   "outputs": [],
   "source": [
    "# Applying Clean function to the train content present in the dataset\n",
    "df_train_sample['cleaned_content_tr'] = df_train_sample['content'].apply(preprocessor)"
   ]
  },
  {
   "cell_type": "code",
   "execution_count": 11,
   "id": "81b27b21-3af7-42a7-b996-bc1082b125e8",
   "metadata": {},
   "outputs": [],
   "source": [
    "df_test_sample['cleaned_content_ts'] = df_test_sample['content'].apply(preprocessor)"
   ]
  },
  {
   "cell_type": "code",
   "execution_count": null,
   "id": "f6c064f9-d271-4c92-a88d-824e8dc0dc55",
   "metadata": {},
   "outputs": [],
   "source": [
    "# Saving Preprocesed data to csv\n",
    "df_train_sample.to_csv(\"df_train_sample.csv\", index = False)\n",
    "df_test_sample.to_csv(\"df_test_sample.csv\", index = False)"
   ]
  },
  {
   "cell_type": "code",
   "execution_count": 2,
   "id": "a9549ffa-0744-4959-85f0-029dae884fad",
   "metadata": {},
   "outputs": [],
   "source": [
    "df_train_sample = pd.read_csv(\"df_train_sample.csv\")\n",
    "df_test_sample = pd.read_csv(\"df_test_sample.csv\")"
   ]
  },
  {
   "cell_type": "code",
   "execution_count": 3,
   "id": "f7b8c6eb-96bd-4ee7-be76-69d02c3926e9",
   "metadata": {},
   "outputs": [],
   "source": [
    "# VADER sentiment score function\n",
    "analyzer = SentimentIntensityAnalyzer()\n",
    "\n",
    "def vader_score(text):\n",
    "    return analyzer.polarity_scores(str(text))['compound']\n",
    "\n",
    "df_train_sample['vader_compound_tr'] = df_train_sample['cleaned_content_tr'].apply(vader_score)\n",
    "df_test_sample['vader_compound_ts'] = df_test_sample['cleaned_content_ts'].apply(vader_score)"
   ]
  },
  {
   "cell_type": "markdown",
   "id": "58a87a3c-2b87-46eb-bb0e-00e4664c2922",
   "metadata": {},
   "source": [
    "### 1.3 Text Vectorization <a id=\"subsection3\"></a>"
   ]
  },
  {
   "cell_type": "code",
   "execution_count": 5,
   "id": "62113ec5-7d4b-4667-94e1-1c7a45546bea",
   "metadata": {},
   "outputs": [],
   "source": [
    "# TF-IDF Vectorization\n",
    "from sklearn.feature_extraction.text import TfidfVectorizer\n",
    "\n",
    "vectorizer = TfidfVectorizer(max_features=5000)\n",
    "X_train_tfidf = vectorizer.fit_transform(df_train_sample['cleaned_content_tr'])\n",
    "X_test_tfidf = vectorizer.transform(df_test_sample['cleaned_content_ts'])"
   ]
  },
  {
   "cell_type": "code",
   "execution_count": 6,
   "id": "98788e73-ae2d-4a78-98ae-023433af5590",
   "metadata": {},
   "outputs": [],
   "source": [
    "#scalng vader scores as models dont take negative inputs\n",
    "df_train_sample['vader_compound_tr'] = (df_train_sample['vader_compound_tr'] + 1) / 2\n",
    "df_test_sample['vader_compound_ts'] = (df_test_sample['vader_compound_ts'] + 1) / 2\n"
   ]
  },
  {
   "cell_type": "code",
   "execution_count": 7,
   "id": "347863c6-42fd-469f-8870-bad7835cad45",
   "metadata": {},
   "outputs": [],
   "source": [
    "\n",
    "# Convert VADER columns to sparse matrices\n",
    "vader_train_sparse = csr_matrix(df_train_sample['vader_compound_tr'].values.reshape(-1, 1))\n",
    "vader_test_sparse = csr_matrix(df_test_sample['vader_compound_ts'].values.reshape(-1, 1))\n",
    "\n",
    "# Combine sparse TF-IDF and VADER score\n",
    "X_train_final = hstack((X_train_tfidf, vader_train_sparse))\n",
    "X_test_final = hstack((X_test_tfidf, vader_test_sparse))\n",
    "\n",
    "y_train = df_train_sample['label']\n",
    "y_test = df_test_sample['label']\n"
   ]
  },
  {
   "cell_type": "code",
   "execution_count": 22,
   "id": "51aea3c6-af99-4f2f-96a6-7a6253abec7e",
   "metadata": {},
   "outputs": [],
   "source": [
    "\n",
    "X_train_final = X_train_tfidf\n",
    "X_test_final = X_test_tfidf\n",
    "\n",
    "y_train = df_train_sample['label']\n",
    "y_test = df_test_sample['label']"
   ]
  },
  {
   "cell_type": "markdown",
   "id": "eaf71c44-0d1a-4f31-a785-27c953985f13",
   "metadata": {},
   "source": [
    "### 1.4 Traditional Model Training & Evaluation <a id=\"subsection4\"></a>"
   ]
  },
  {
   "cell_type": "code",
   "execution_count": 14,
   "id": "e6377b49-63ed-48a1-8066-279f7502e900",
   "metadata": {},
   "outputs": [
    {
     "data": {
      "text/html": [
       "<style>#sk-container-id-1 {\n",
       "  /* Definition of color scheme common for light and dark mode */\n",
       "  --sklearn-color-text: #000;\n",
       "  --sklearn-color-text-muted: #666;\n",
       "  --sklearn-color-line: gray;\n",
       "  /* Definition of color scheme for unfitted estimators */\n",
       "  --sklearn-color-unfitted-level-0: #fff5e6;\n",
       "  --sklearn-color-unfitted-level-1: #f6e4d2;\n",
       "  --sklearn-color-unfitted-level-2: #ffe0b3;\n",
       "  --sklearn-color-unfitted-level-3: chocolate;\n",
       "  /* Definition of color scheme for fitted estimators */\n",
       "  --sklearn-color-fitted-level-0: #f0f8ff;\n",
       "  --sklearn-color-fitted-level-1: #d4ebff;\n",
       "  --sklearn-color-fitted-level-2: #b3dbfd;\n",
       "  --sklearn-color-fitted-level-3: cornflowerblue;\n",
       "\n",
       "  /* Specific color for light theme */\n",
       "  --sklearn-color-text-on-default-background: var(--sg-text-color, var(--theme-code-foreground, var(--jp-content-font-color1, black)));\n",
       "  --sklearn-color-background: var(--sg-background-color, var(--theme-background, var(--jp-layout-color0, white)));\n",
       "  --sklearn-color-border-box: var(--sg-text-color, var(--theme-code-foreground, var(--jp-content-font-color1, black)));\n",
       "  --sklearn-color-icon: #696969;\n",
       "\n",
       "  @media (prefers-color-scheme: dark) {\n",
       "    /* Redefinition of color scheme for dark theme */\n",
       "    --sklearn-color-text-on-default-background: var(--sg-text-color, var(--theme-code-foreground, var(--jp-content-font-color1, white)));\n",
       "    --sklearn-color-background: var(--sg-background-color, var(--theme-background, var(--jp-layout-color0, #111)));\n",
       "    --sklearn-color-border-box: var(--sg-text-color, var(--theme-code-foreground, var(--jp-content-font-color1, white)));\n",
       "    --sklearn-color-icon: #878787;\n",
       "  }\n",
       "}\n",
       "\n",
       "#sk-container-id-1 {\n",
       "  color: var(--sklearn-color-text);\n",
       "}\n",
       "\n",
       "#sk-container-id-1 pre {\n",
       "  padding: 0;\n",
       "}\n",
       "\n",
       "#sk-container-id-1 input.sk-hidden--visually {\n",
       "  border: 0;\n",
       "  clip: rect(1px 1px 1px 1px);\n",
       "  clip: rect(1px, 1px, 1px, 1px);\n",
       "  height: 1px;\n",
       "  margin: -1px;\n",
       "  overflow: hidden;\n",
       "  padding: 0;\n",
       "  position: absolute;\n",
       "  width: 1px;\n",
       "}\n",
       "\n",
       "#sk-container-id-1 div.sk-dashed-wrapped {\n",
       "  border: 1px dashed var(--sklearn-color-line);\n",
       "  margin: 0 0.4em 0.5em 0.4em;\n",
       "  box-sizing: border-box;\n",
       "  padding-bottom: 0.4em;\n",
       "  background-color: var(--sklearn-color-background);\n",
       "}\n",
       "\n",
       "#sk-container-id-1 div.sk-container {\n",
       "  /* jupyter's `normalize.less` sets `[hidden] { display: none; }`\n",
       "     but bootstrap.min.css set `[hidden] { display: none !important; }`\n",
       "     so we also need the `!important` here to be able to override the\n",
       "     default hidden behavior on the sphinx rendered scikit-learn.org.\n",
       "     See: https://github.com/scikit-learn/scikit-learn/issues/21755 */\n",
       "  display: inline-block !important;\n",
       "  position: relative;\n",
       "}\n",
       "\n",
       "#sk-container-id-1 div.sk-text-repr-fallback {\n",
       "  display: none;\n",
       "}\n",
       "\n",
       "div.sk-parallel-item,\n",
       "div.sk-serial,\n",
       "div.sk-item {\n",
       "  /* draw centered vertical line to link estimators */\n",
       "  background-image: linear-gradient(var(--sklearn-color-text-on-default-background), var(--sklearn-color-text-on-default-background));\n",
       "  background-size: 2px 100%;\n",
       "  background-repeat: no-repeat;\n",
       "  background-position: center center;\n",
       "}\n",
       "\n",
       "/* Parallel-specific style estimator block */\n",
       "\n",
       "#sk-container-id-1 div.sk-parallel-item::after {\n",
       "  content: \"\";\n",
       "  width: 100%;\n",
       "  border-bottom: 2px solid var(--sklearn-color-text-on-default-background);\n",
       "  flex-grow: 1;\n",
       "}\n",
       "\n",
       "#sk-container-id-1 div.sk-parallel {\n",
       "  display: flex;\n",
       "  align-items: stretch;\n",
       "  justify-content: center;\n",
       "  background-color: var(--sklearn-color-background);\n",
       "  position: relative;\n",
       "}\n",
       "\n",
       "#sk-container-id-1 div.sk-parallel-item {\n",
       "  display: flex;\n",
       "  flex-direction: column;\n",
       "}\n",
       "\n",
       "#sk-container-id-1 div.sk-parallel-item:first-child::after {\n",
       "  align-self: flex-end;\n",
       "  width: 50%;\n",
       "}\n",
       "\n",
       "#sk-container-id-1 div.sk-parallel-item:last-child::after {\n",
       "  align-self: flex-start;\n",
       "  width: 50%;\n",
       "}\n",
       "\n",
       "#sk-container-id-1 div.sk-parallel-item:only-child::after {\n",
       "  width: 0;\n",
       "}\n",
       "\n",
       "/* Serial-specific style estimator block */\n",
       "\n",
       "#sk-container-id-1 div.sk-serial {\n",
       "  display: flex;\n",
       "  flex-direction: column;\n",
       "  align-items: center;\n",
       "  background-color: var(--sklearn-color-background);\n",
       "  padding-right: 1em;\n",
       "  padding-left: 1em;\n",
       "}\n",
       "\n",
       "\n",
       "/* Toggleable style: style used for estimator/Pipeline/ColumnTransformer box that is\n",
       "clickable and can be expanded/collapsed.\n",
       "- Pipeline and ColumnTransformer use this feature and define the default style\n",
       "- Estimators will overwrite some part of the style using the `sk-estimator` class\n",
       "*/\n",
       "\n",
       "/* Pipeline and ColumnTransformer style (default) */\n",
       "\n",
       "#sk-container-id-1 div.sk-toggleable {\n",
       "  /* Default theme specific background. It is overwritten whether we have a\n",
       "  specific estimator or a Pipeline/ColumnTransformer */\n",
       "  background-color: var(--sklearn-color-background);\n",
       "}\n",
       "\n",
       "/* Toggleable label */\n",
       "#sk-container-id-1 label.sk-toggleable__label {\n",
       "  cursor: pointer;\n",
       "  display: flex;\n",
       "  width: 100%;\n",
       "  margin-bottom: 0;\n",
       "  padding: 0.5em;\n",
       "  box-sizing: border-box;\n",
       "  text-align: center;\n",
       "  align-items: start;\n",
       "  justify-content: space-between;\n",
       "  gap: 0.5em;\n",
       "}\n",
       "\n",
       "#sk-container-id-1 label.sk-toggleable__label .caption {\n",
       "  font-size: 0.6rem;\n",
       "  font-weight: lighter;\n",
       "  color: var(--sklearn-color-text-muted);\n",
       "}\n",
       "\n",
       "#sk-container-id-1 label.sk-toggleable__label-arrow:before {\n",
       "  /* Arrow on the left of the label */\n",
       "  content: \"▸\";\n",
       "  float: left;\n",
       "  margin-right: 0.25em;\n",
       "  color: var(--sklearn-color-icon);\n",
       "}\n",
       "\n",
       "#sk-container-id-1 label.sk-toggleable__label-arrow:hover:before {\n",
       "  color: var(--sklearn-color-text);\n",
       "}\n",
       "\n",
       "/* Toggleable content - dropdown */\n",
       "\n",
       "#sk-container-id-1 div.sk-toggleable__content {\n",
       "  max-height: 0;\n",
       "  max-width: 0;\n",
       "  overflow: hidden;\n",
       "  text-align: left;\n",
       "  /* unfitted */\n",
       "  background-color: var(--sklearn-color-unfitted-level-0);\n",
       "}\n",
       "\n",
       "#sk-container-id-1 div.sk-toggleable__content.fitted {\n",
       "  /* fitted */\n",
       "  background-color: var(--sklearn-color-fitted-level-0);\n",
       "}\n",
       "\n",
       "#sk-container-id-1 div.sk-toggleable__content pre {\n",
       "  margin: 0.2em;\n",
       "  border-radius: 0.25em;\n",
       "  color: var(--sklearn-color-text);\n",
       "  /* unfitted */\n",
       "  background-color: var(--sklearn-color-unfitted-level-0);\n",
       "}\n",
       "\n",
       "#sk-container-id-1 div.sk-toggleable__content.fitted pre {\n",
       "  /* unfitted */\n",
       "  background-color: var(--sklearn-color-fitted-level-0);\n",
       "}\n",
       "\n",
       "#sk-container-id-1 input.sk-toggleable__control:checked~div.sk-toggleable__content {\n",
       "  /* Expand drop-down */\n",
       "  max-height: 200px;\n",
       "  max-width: 100%;\n",
       "  overflow: auto;\n",
       "}\n",
       "\n",
       "#sk-container-id-1 input.sk-toggleable__control:checked~label.sk-toggleable__label-arrow:before {\n",
       "  content: \"▾\";\n",
       "}\n",
       "\n",
       "/* Pipeline/ColumnTransformer-specific style */\n",
       "\n",
       "#sk-container-id-1 div.sk-label input.sk-toggleable__control:checked~label.sk-toggleable__label {\n",
       "  color: var(--sklearn-color-text);\n",
       "  background-color: var(--sklearn-color-unfitted-level-2);\n",
       "}\n",
       "\n",
       "#sk-container-id-1 div.sk-label.fitted input.sk-toggleable__control:checked~label.sk-toggleable__label {\n",
       "  background-color: var(--sklearn-color-fitted-level-2);\n",
       "}\n",
       "\n",
       "/* Estimator-specific style */\n",
       "\n",
       "/* Colorize estimator box */\n",
       "#sk-container-id-1 div.sk-estimator input.sk-toggleable__control:checked~label.sk-toggleable__label {\n",
       "  /* unfitted */\n",
       "  background-color: var(--sklearn-color-unfitted-level-2);\n",
       "}\n",
       "\n",
       "#sk-container-id-1 div.sk-estimator.fitted input.sk-toggleable__control:checked~label.sk-toggleable__label {\n",
       "  /* fitted */\n",
       "  background-color: var(--sklearn-color-fitted-level-2);\n",
       "}\n",
       "\n",
       "#sk-container-id-1 div.sk-label label.sk-toggleable__label,\n",
       "#sk-container-id-1 div.sk-label label {\n",
       "  /* The background is the default theme color */\n",
       "  color: var(--sklearn-color-text-on-default-background);\n",
       "}\n",
       "\n",
       "/* On hover, darken the color of the background */\n",
       "#sk-container-id-1 div.sk-label:hover label.sk-toggleable__label {\n",
       "  color: var(--sklearn-color-text);\n",
       "  background-color: var(--sklearn-color-unfitted-level-2);\n",
       "}\n",
       "\n",
       "/* Label box, darken color on hover, fitted */\n",
       "#sk-container-id-1 div.sk-label.fitted:hover label.sk-toggleable__label.fitted {\n",
       "  color: var(--sklearn-color-text);\n",
       "  background-color: var(--sklearn-color-fitted-level-2);\n",
       "}\n",
       "\n",
       "/* Estimator label */\n",
       "\n",
       "#sk-container-id-1 div.sk-label label {\n",
       "  font-family: monospace;\n",
       "  font-weight: bold;\n",
       "  display: inline-block;\n",
       "  line-height: 1.2em;\n",
       "}\n",
       "\n",
       "#sk-container-id-1 div.sk-label-container {\n",
       "  text-align: center;\n",
       "}\n",
       "\n",
       "/* Estimator-specific */\n",
       "#sk-container-id-1 div.sk-estimator {\n",
       "  font-family: monospace;\n",
       "  border: 1px dotted var(--sklearn-color-border-box);\n",
       "  border-radius: 0.25em;\n",
       "  box-sizing: border-box;\n",
       "  margin-bottom: 0.5em;\n",
       "  /* unfitted */\n",
       "  background-color: var(--sklearn-color-unfitted-level-0);\n",
       "}\n",
       "\n",
       "#sk-container-id-1 div.sk-estimator.fitted {\n",
       "  /* fitted */\n",
       "  background-color: var(--sklearn-color-fitted-level-0);\n",
       "}\n",
       "\n",
       "/* on hover */\n",
       "#sk-container-id-1 div.sk-estimator:hover {\n",
       "  /* unfitted */\n",
       "  background-color: var(--sklearn-color-unfitted-level-2);\n",
       "}\n",
       "\n",
       "#sk-container-id-1 div.sk-estimator.fitted:hover {\n",
       "  /* fitted */\n",
       "  background-color: var(--sklearn-color-fitted-level-2);\n",
       "}\n",
       "\n",
       "/* Specification for estimator info (e.g. \"i\" and \"?\") */\n",
       "\n",
       "/* Common style for \"i\" and \"?\" */\n",
       "\n",
       ".sk-estimator-doc-link,\n",
       "a:link.sk-estimator-doc-link,\n",
       "a:visited.sk-estimator-doc-link {\n",
       "  float: right;\n",
       "  font-size: smaller;\n",
       "  line-height: 1em;\n",
       "  font-family: monospace;\n",
       "  background-color: var(--sklearn-color-background);\n",
       "  border-radius: 1em;\n",
       "  height: 1em;\n",
       "  width: 1em;\n",
       "  text-decoration: none !important;\n",
       "  margin-left: 0.5em;\n",
       "  text-align: center;\n",
       "  /* unfitted */\n",
       "  border: var(--sklearn-color-unfitted-level-1) 1pt solid;\n",
       "  color: var(--sklearn-color-unfitted-level-1);\n",
       "}\n",
       "\n",
       ".sk-estimator-doc-link.fitted,\n",
       "a:link.sk-estimator-doc-link.fitted,\n",
       "a:visited.sk-estimator-doc-link.fitted {\n",
       "  /* fitted */\n",
       "  border: var(--sklearn-color-fitted-level-1) 1pt solid;\n",
       "  color: var(--sklearn-color-fitted-level-1);\n",
       "}\n",
       "\n",
       "/* On hover */\n",
       "div.sk-estimator:hover .sk-estimator-doc-link:hover,\n",
       ".sk-estimator-doc-link:hover,\n",
       "div.sk-label-container:hover .sk-estimator-doc-link:hover,\n",
       ".sk-estimator-doc-link:hover {\n",
       "  /* unfitted */\n",
       "  background-color: var(--sklearn-color-unfitted-level-3);\n",
       "  color: var(--sklearn-color-background);\n",
       "  text-decoration: none;\n",
       "}\n",
       "\n",
       "div.sk-estimator.fitted:hover .sk-estimator-doc-link.fitted:hover,\n",
       ".sk-estimator-doc-link.fitted:hover,\n",
       "div.sk-label-container:hover .sk-estimator-doc-link.fitted:hover,\n",
       ".sk-estimator-doc-link.fitted:hover {\n",
       "  /* fitted */\n",
       "  background-color: var(--sklearn-color-fitted-level-3);\n",
       "  color: var(--sklearn-color-background);\n",
       "  text-decoration: none;\n",
       "}\n",
       "\n",
       "/* Span, style for the box shown on hovering the info icon */\n",
       ".sk-estimator-doc-link span {\n",
       "  display: none;\n",
       "  z-index: 9999;\n",
       "  position: relative;\n",
       "  font-weight: normal;\n",
       "  right: .2ex;\n",
       "  padding: .5ex;\n",
       "  margin: .5ex;\n",
       "  width: min-content;\n",
       "  min-width: 20ex;\n",
       "  max-width: 50ex;\n",
       "  color: var(--sklearn-color-text);\n",
       "  box-shadow: 2pt 2pt 4pt #999;\n",
       "  /* unfitted */\n",
       "  background: var(--sklearn-color-unfitted-level-0);\n",
       "  border: .5pt solid var(--sklearn-color-unfitted-level-3);\n",
       "}\n",
       "\n",
       ".sk-estimator-doc-link.fitted span {\n",
       "  /* fitted */\n",
       "  background: var(--sklearn-color-fitted-level-0);\n",
       "  border: var(--sklearn-color-fitted-level-3);\n",
       "}\n",
       "\n",
       ".sk-estimator-doc-link:hover span {\n",
       "  display: block;\n",
       "}\n",
       "\n",
       "/* \"?\"-specific style due to the `<a>` HTML tag */\n",
       "\n",
       "#sk-container-id-1 a.estimator_doc_link {\n",
       "  float: right;\n",
       "  font-size: 1rem;\n",
       "  line-height: 1em;\n",
       "  font-family: monospace;\n",
       "  background-color: var(--sklearn-color-background);\n",
       "  border-radius: 1rem;\n",
       "  height: 1rem;\n",
       "  width: 1rem;\n",
       "  text-decoration: none;\n",
       "  /* unfitted */\n",
       "  color: var(--sklearn-color-unfitted-level-1);\n",
       "  border: var(--sklearn-color-unfitted-level-1) 1pt solid;\n",
       "}\n",
       "\n",
       "#sk-container-id-1 a.estimator_doc_link.fitted {\n",
       "  /* fitted */\n",
       "  border: var(--sklearn-color-fitted-level-1) 1pt solid;\n",
       "  color: var(--sklearn-color-fitted-level-1);\n",
       "}\n",
       "\n",
       "/* On hover */\n",
       "#sk-container-id-1 a.estimator_doc_link:hover {\n",
       "  /* unfitted */\n",
       "  background-color: var(--sklearn-color-unfitted-level-3);\n",
       "  color: var(--sklearn-color-background);\n",
       "  text-decoration: none;\n",
       "}\n",
       "\n",
       "#sk-container-id-1 a.estimator_doc_link.fitted:hover {\n",
       "  /* fitted */\n",
       "  background-color: var(--sklearn-color-fitted-level-3);\n",
       "}\n",
       "</style><div id=\"sk-container-id-1\" class=\"sk-top-container\"><div class=\"sk-text-repr-fallback\"><pre>MultinomialNB()</pre><b>In a Jupyter environment, please rerun this cell to show the HTML representation or trust the notebook. <br />On GitHub, the HTML representation is unable to render, please try loading this page with nbviewer.org.</b></div><div class=\"sk-container\" hidden><div class=\"sk-item\"><div class=\"sk-estimator fitted sk-toggleable\"><input class=\"sk-toggleable__control sk-hidden--visually\" id=\"sk-estimator-id-1\" type=\"checkbox\" checked><label for=\"sk-estimator-id-1\" class=\"sk-toggleable__label fitted sk-toggleable__label-arrow\"><div><div>MultinomialNB</div></div><div><a class=\"sk-estimator-doc-link fitted\" rel=\"noreferrer\" target=\"_blank\" href=\"https://scikit-learn.org/1.6/modules/generated/sklearn.naive_bayes.MultinomialNB.html\">?<span>Documentation for MultinomialNB</span></a><span class=\"sk-estimator-doc-link fitted\">i<span>Fitted</span></span></div></label><div class=\"sk-toggleable__content fitted\"><pre>MultinomialNB()</pre></div> </div></div></div></div>"
      ],
      "text/plain": [
       "MultinomialNB()"
      ]
     },
     "execution_count": 14,
     "metadata": {},
     "output_type": "execute_result"
    }
   ],
   "source": [
    "# Model\n",
    "model = MultinomialNB()\n",
    "model.fit(X_train_final, y_train)"
   ]
  },
  {
   "cell_type": "code",
   "execution_count": 35,
   "id": "c6243fcc-edf5-4a1a-be21-2b463327aa66",
   "metadata": {},
   "outputs": [
    {
     "name": "stdout",
     "output_type": "stream",
     "text": [
      "              precision    recall  f1-score   support\n",
      "\n",
      "           0       0.82      0.82      0.82     25110\n",
      "           1       0.82      0.82      0.82     24890\n",
      "\n",
      "    accuracy                           0.82     50000\n",
      "   macro avg       0.82      0.82      0.82     50000\n",
      "weighted avg       0.82      0.82      0.82     50000\n",
      "\n"
     ]
    }
   ],
   "source": [
    "# Predict and evaluate\n",
    "y_pred = model.predict(X_test_final)\n",
    "print(classification_report(y_test, y_pred))"
   ]
  },
  {
   "cell_type": "code",
   "execution_count": 8,
   "id": "c699d852-fb98-43a9-99ed-3fee0611fca2",
   "metadata": {},
   "outputs": [
    {
     "data": {
      "text/html": [
       "<style>#sk-container-id-1 {\n",
       "  /* Definition of color scheme common for light and dark mode */\n",
       "  --sklearn-color-text: #000;\n",
       "  --sklearn-color-text-muted: #666;\n",
       "  --sklearn-color-line: gray;\n",
       "  /* Definition of color scheme for unfitted estimators */\n",
       "  --sklearn-color-unfitted-level-0: #fff5e6;\n",
       "  --sklearn-color-unfitted-level-1: #f6e4d2;\n",
       "  --sklearn-color-unfitted-level-2: #ffe0b3;\n",
       "  --sklearn-color-unfitted-level-3: chocolate;\n",
       "  /* Definition of color scheme for fitted estimators */\n",
       "  --sklearn-color-fitted-level-0: #f0f8ff;\n",
       "  --sklearn-color-fitted-level-1: #d4ebff;\n",
       "  --sklearn-color-fitted-level-2: #b3dbfd;\n",
       "  --sklearn-color-fitted-level-3: cornflowerblue;\n",
       "\n",
       "  /* Specific color for light theme */\n",
       "  --sklearn-color-text-on-default-background: var(--sg-text-color, var(--theme-code-foreground, var(--jp-content-font-color1, black)));\n",
       "  --sklearn-color-background: var(--sg-background-color, var(--theme-background, var(--jp-layout-color0, white)));\n",
       "  --sklearn-color-border-box: var(--sg-text-color, var(--theme-code-foreground, var(--jp-content-font-color1, black)));\n",
       "  --sklearn-color-icon: #696969;\n",
       "\n",
       "  @media (prefers-color-scheme: dark) {\n",
       "    /* Redefinition of color scheme for dark theme */\n",
       "    --sklearn-color-text-on-default-background: var(--sg-text-color, var(--theme-code-foreground, var(--jp-content-font-color1, white)));\n",
       "    --sklearn-color-background: var(--sg-background-color, var(--theme-background, var(--jp-layout-color0, #111)));\n",
       "    --sklearn-color-border-box: var(--sg-text-color, var(--theme-code-foreground, var(--jp-content-font-color1, white)));\n",
       "    --sklearn-color-icon: #878787;\n",
       "  }\n",
       "}\n",
       "\n",
       "#sk-container-id-1 {\n",
       "  color: var(--sklearn-color-text);\n",
       "}\n",
       "\n",
       "#sk-container-id-1 pre {\n",
       "  padding: 0;\n",
       "}\n",
       "\n",
       "#sk-container-id-1 input.sk-hidden--visually {\n",
       "  border: 0;\n",
       "  clip: rect(1px 1px 1px 1px);\n",
       "  clip: rect(1px, 1px, 1px, 1px);\n",
       "  height: 1px;\n",
       "  margin: -1px;\n",
       "  overflow: hidden;\n",
       "  padding: 0;\n",
       "  position: absolute;\n",
       "  width: 1px;\n",
       "}\n",
       "\n",
       "#sk-container-id-1 div.sk-dashed-wrapped {\n",
       "  border: 1px dashed var(--sklearn-color-line);\n",
       "  margin: 0 0.4em 0.5em 0.4em;\n",
       "  box-sizing: border-box;\n",
       "  padding-bottom: 0.4em;\n",
       "  background-color: var(--sklearn-color-background);\n",
       "}\n",
       "\n",
       "#sk-container-id-1 div.sk-container {\n",
       "  /* jupyter's `normalize.less` sets `[hidden] { display: none; }`\n",
       "     but bootstrap.min.css set `[hidden] { display: none !important; }`\n",
       "     so we also need the `!important` here to be able to override the\n",
       "     default hidden behavior on the sphinx rendered scikit-learn.org.\n",
       "     See: https://github.com/scikit-learn/scikit-learn/issues/21755 */\n",
       "  display: inline-block !important;\n",
       "  position: relative;\n",
       "}\n",
       "\n",
       "#sk-container-id-1 div.sk-text-repr-fallback {\n",
       "  display: none;\n",
       "}\n",
       "\n",
       "div.sk-parallel-item,\n",
       "div.sk-serial,\n",
       "div.sk-item {\n",
       "  /* draw centered vertical line to link estimators */\n",
       "  background-image: linear-gradient(var(--sklearn-color-text-on-default-background), var(--sklearn-color-text-on-default-background));\n",
       "  background-size: 2px 100%;\n",
       "  background-repeat: no-repeat;\n",
       "  background-position: center center;\n",
       "}\n",
       "\n",
       "/* Parallel-specific style estimator block */\n",
       "\n",
       "#sk-container-id-1 div.sk-parallel-item::after {\n",
       "  content: \"\";\n",
       "  width: 100%;\n",
       "  border-bottom: 2px solid var(--sklearn-color-text-on-default-background);\n",
       "  flex-grow: 1;\n",
       "}\n",
       "\n",
       "#sk-container-id-1 div.sk-parallel {\n",
       "  display: flex;\n",
       "  align-items: stretch;\n",
       "  justify-content: center;\n",
       "  background-color: var(--sklearn-color-background);\n",
       "  position: relative;\n",
       "}\n",
       "\n",
       "#sk-container-id-1 div.sk-parallel-item {\n",
       "  display: flex;\n",
       "  flex-direction: column;\n",
       "}\n",
       "\n",
       "#sk-container-id-1 div.sk-parallel-item:first-child::after {\n",
       "  align-self: flex-end;\n",
       "  width: 50%;\n",
       "}\n",
       "\n",
       "#sk-container-id-1 div.sk-parallel-item:last-child::after {\n",
       "  align-self: flex-start;\n",
       "  width: 50%;\n",
       "}\n",
       "\n",
       "#sk-container-id-1 div.sk-parallel-item:only-child::after {\n",
       "  width: 0;\n",
       "}\n",
       "\n",
       "/* Serial-specific style estimator block */\n",
       "\n",
       "#sk-container-id-1 div.sk-serial {\n",
       "  display: flex;\n",
       "  flex-direction: column;\n",
       "  align-items: center;\n",
       "  background-color: var(--sklearn-color-background);\n",
       "  padding-right: 1em;\n",
       "  padding-left: 1em;\n",
       "}\n",
       "\n",
       "\n",
       "/* Toggleable style: style used for estimator/Pipeline/ColumnTransformer box that is\n",
       "clickable and can be expanded/collapsed.\n",
       "- Pipeline and ColumnTransformer use this feature and define the default style\n",
       "- Estimators will overwrite some part of the style using the `sk-estimator` class\n",
       "*/\n",
       "\n",
       "/* Pipeline and ColumnTransformer style (default) */\n",
       "\n",
       "#sk-container-id-1 div.sk-toggleable {\n",
       "  /* Default theme specific background. It is overwritten whether we have a\n",
       "  specific estimator or a Pipeline/ColumnTransformer */\n",
       "  background-color: var(--sklearn-color-background);\n",
       "}\n",
       "\n",
       "/* Toggleable label */\n",
       "#sk-container-id-1 label.sk-toggleable__label {\n",
       "  cursor: pointer;\n",
       "  display: flex;\n",
       "  width: 100%;\n",
       "  margin-bottom: 0;\n",
       "  padding: 0.5em;\n",
       "  box-sizing: border-box;\n",
       "  text-align: center;\n",
       "  align-items: start;\n",
       "  justify-content: space-between;\n",
       "  gap: 0.5em;\n",
       "}\n",
       "\n",
       "#sk-container-id-1 label.sk-toggleable__label .caption {\n",
       "  font-size: 0.6rem;\n",
       "  font-weight: lighter;\n",
       "  color: var(--sklearn-color-text-muted);\n",
       "}\n",
       "\n",
       "#sk-container-id-1 label.sk-toggleable__label-arrow:before {\n",
       "  /* Arrow on the left of the label */\n",
       "  content: \"▸\";\n",
       "  float: left;\n",
       "  margin-right: 0.25em;\n",
       "  color: var(--sklearn-color-icon);\n",
       "}\n",
       "\n",
       "#sk-container-id-1 label.sk-toggleable__label-arrow:hover:before {\n",
       "  color: var(--sklearn-color-text);\n",
       "}\n",
       "\n",
       "/* Toggleable content - dropdown */\n",
       "\n",
       "#sk-container-id-1 div.sk-toggleable__content {\n",
       "  max-height: 0;\n",
       "  max-width: 0;\n",
       "  overflow: hidden;\n",
       "  text-align: left;\n",
       "  /* unfitted */\n",
       "  background-color: var(--sklearn-color-unfitted-level-0);\n",
       "}\n",
       "\n",
       "#sk-container-id-1 div.sk-toggleable__content.fitted {\n",
       "  /* fitted */\n",
       "  background-color: var(--sklearn-color-fitted-level-0);\n",
       "}\n",
       "\n",
       "#sk-container-id-1 div.sk-toggleable__content pre {\n",
       "  margin: 0.2em;\n",
       "  border-radius: 0.25em;\n",
       "  color: var(--sklearn-color-text);\n",
       "  /* unfitted */\n",
       "  background-color: var(--sklearn-color-unfitted-level-0);\n",
       "}\n",
       "\n",
       "#sk-container-id-1 div.sk-toggleable__content.fitted pre {\n",
       "  /* unfitted */\n",
       "  background-color: var(--sklearn-color-fitted-level-0);\n",
       "}\n",
       "\n",
       "#sk-container-id-1 input.sk-toggleable__control:checked~div.sk-toggleable__content {\n",
       "  /* Expand drop-down */\n",
       "  max-height: 200px;\n",
       "  max-width: 100%;\n",
       "  overflow: auto;\n",
       "}\n",
       "\n",
       "#sk-container-id-1 input.sk-toggleable__control:checked~label.sk-toggleable__label-arrow:before {\n",
       "  content: \"▾\";\n",
       "}\n",
       "\n",
       "/* Pipeline/ColumnTransformer-specific style */\n",
       "\n",
       "#sk-container-id-1 div.sk-label input.sk-toggleable__control:checked~label.sk-toggleable__label {\n",
       "  color: var(--sklearn-color-text);\n",
       "  background-color: var(--sklearn-color-unfitted-level-2);\n",
       "}\n",
       "\n",
       "#sk-container-id-1 div.sk-label.fitted input.sk-toggleable__control:checked~label.sk-toggleable__label {\n",
       "  background-color: var(--sklearn-color-fitted-level-2);\n",
       "}\n",
       "\n",
       "/* Estimator-specific style */\n",
       "\n",
       "/* Colorize estimator box */\n",
       "#sk-container-id-1 div.sk-estimator input.sk-toggleable__control:checked~label.sk-toggleable__label {\n",
       "  /* unfitted */\n",
       "  background-color: var(--sklearn-color-unfitted-level-2);\n",
       "}\n",
       "\n",
       "#sk-container-id-1 div.sk-estimator.fitted input.sk-toggleable__control:checked~label.sk-toggleable__label {\n",
       "  /* fitted */\n",
       "  background-color: var(--sklearn-color-fitted-level-2);\n",
       "}\n",
       "\n",
       "#sk-container-id-1 div.sk-label label.sk-toggleable__label,\n",
       "#sk-container-id-1 div.sk-label label {\n",
       "  /* The background is the default theme color */\n",
       "  color: var(--sklearn-color-text-on-default-background);\n",
       "}\n",
       "\n",
       "/* On hover, darken the color of the background */\n",
       "#sk-container-id-1 div.sk-label:hover label.sk-toggleable__label {\n",
       "  color: var(--sklearn-color-text);\n",
       "  background-color: var(--sklearn-color-unfitted-level-2);\n",
       "}\n",
       "\n",
       "/* Label box, darken color on hover, fitted */\n",
       "#sk-container-id-1 div.sk-label.fitted:hover label.sk-toggleable__label.fitted {\n",
       "  color: var(--sklearn-color-text);\n",
       "  background-color: var(--sklearn-color-fitted-level-2);\n",
       "}\n",
       "\n",
       "/* Estimator label */\n",
       "\n",
       "#sk-container-id-1 div.sk-label label {\n",
       "  font-family: monospace;\n",
       "  font-weight: bold;\n",
       "  display: inline-block;\n",
       "  line-height: 1.2em;\n",
       "}\n",
       "\n",
       "#sk-container-id-1 div.sk-label-container {\n",
       "  text-align: center;\n",
       "}\n",
       "\n",
       "/* Estimator-specific */\n",
       "#sk-container-id-1 div.sk-estimator {\n",
       "  font-family: monospace;\n",
       "  border: 1px dotted var(--sklearn-color-border-box);\n",
       "  border-radius: 0.25em;\n",
       "  box-sizing: border-box;\n",
       "  margin-bottom: 0.5em;\n",
       "  /* unfitted */\n",
       "  background-color: var(--sklearn-color-unfitted-level-0);\n",
       "}\n",
       "\n",
       "#sk-container-id-1 div.sk-estimator.fitted {\n",
       "  /* fitted */\n",
       "  background-color: var(--sklearn-color-fitted-level-0);\n",
       "}\n",
       "\n",
       "/* on hover */\n",
       "#sk-container-id-1 div.sk-estimator:hover {\n",
       "  /* unfitted */\n",
       "  background-color: var(--sklearn-color-unfitted-level-2);\n",
       "}\n",
       "\n",
       "#sk-container-id-1 div.sk-estimator.fitted:hover {\n",
       "  /* fitted */\n",
       "  background-color: var(--sklearn-color-fitted-level-2);\n",
       "}\n",
       "\n",
       "/* Specification for estimator info (e.g. \"i\" and \"?\") */\n",
       "\n",
       "/* Common style for \"i\" and \"?\" */\n",
       "\n",
       ".sk-estimator-doc-link,\n",
       "a:link.sk-estimator-doc-link,\n",
       "a:visited.sk-estimator-doc-link {\n",
       "  float: right;\n",
       "  font-size: smaller;\n",
       "  line-height: 1em;\n",
       "  font-family: monospace;\n",
       "  background-color: var(--sklearn-color-background);\n",
       "  border-radius: 1em;\n",
       "  height: 1em;\n",
       "  width: 1em;\n",
       "  text-decoration: none !important;\n",
       "  margin-left: 0.5em;\n",
       "  text-align: center;\n",
       "  /* unfitted */\n",
       "  border: var(--sklearn-color-unfitted-level-1) 1pt solid;\n",
       "  color: var(--sklearn-color-unfitted-level-1);\n",
       "}\n",
       "\n",
       ".sk-estimator-doc-link.fitted,\n",
       "a:link.sk-estimator-doc-link.fitted,\n",
       "a:visited.sk-estimator-doc-link.fitted {\n",
       "  /* fitted */\n",
       "  border: var(--sklearn-color-fitted-level-1) 1pt solid;\n",
       "  color: var(--sklearn-color-fitted-level-1);\n",
       "}\n",
       "\n",
       "/* On hover */\n",
       "div.sk-estimator:hover .sk-estimator-doc-link:hover,\n",
       ".sk-estimator-doc-link:hover,\n",
       "div.sk-label-container:hover .sk-estimator-doc-link:hover,\n",
       ".sk-estimator-doc-link:hover {\n",
       "  /* unfitted */\n",
       "  background-color: var(--sklearn-color-unfitted-level-3);\n",
       "  color: var(--sklearn-color-background);\n",
       "  text-decoration: none;\n",
       "}\n",
       "\n",
       "div.sk-estimator.fitted:hover .sk-estimator-doc-link.fitted:hover,\n",
       ".sk-estimator-doc-link.fitted:hover,\n",
       "div.sk-label-container:hover .sk-estimator-doc-link.fitted:hover,\n",
       ".sk-estimator-doc-link.fitted:hover {\n",
       "  /* fitted */\n",
       "  background-color: var(--sklearn-color-fitted-level-3);\n",
       "  color: var(--sklearn-color-background);\n",
       "  text-decoration: none;\n",
       "}\n",
       "\n",
       "/* Span, style for the box shown on hovering the info icon */\n",
       ".sk-estimator-doc-link span {\n",
       "  display: none;\n",
       "  z-index: 9999;\n",
       "  position: relative;\n",
       "  font-weight: normal;\n",
       "  right: .2ex;\n",
       "  padding: .5ex;\n",
       "  margin: .5ex;\n",
       "  width: min-content;\n",
       "  min-width: 20ex;\n",
       "  max-width: 50ex;\n",
       "  color: var(--sklearn-color-text);\n",
       "  box-shadow: 2pt 2pt 4pt #999;\n",
       "  /* unfitted */\n",
       "  background: var(--sklearn-color-unfitted-level-0);\n",
       "  border: .5pt solid var(--sklearn-color-unfitted-level-3);\n",
       "}\n",
       "\n",
       ".sk-estimator-doc-link.fitted span {\n",
       "  /* fitted */\n",
       "  background: var(--sklearn-color-fitted-level-0);\n",
       "  border: var(--sklearn-color-fitted-level-3);\n",
       "}\n",
       "\n",
       ".sk-estimator-doc-link:hover span {\n",
       "  display: block;\n",
       "}\n",
       "\n",
       "/* \"?\"-specific style due to the `<a>` HTML tag */\n",
       "\n",
       "#sk-container-id-1 a.estimator_doc_link {\n",
       "  float: right;\n",
       "  font-size: 1rem;\n",
       "  line-height: 1em;\n",
       "  font-family: monospace;\n",
       "  background-color: var(--sklearn-color-background);\n",
       "  border-radius: 1rem;\n",
       "  height: 1rem;\n",
       "  width: 1rem;\n",
       "  text-decoration: none;\n",
       "  /* unfitted */\n",
       "  color: var(--sklearn-color-unfitted-level-1);\n",
       "  border: var(--sklearn-color-unfitted-level-1) 1pt solid;\n",
       "}\n",
       "\n",
       "#sk-container-id-1 a.estimator_doc_link.fitted {\n",
       "  /* fitted */\n",
       "  border: var(--sklearn-color-fitted-level-1) 1pt solid;\n",
       "  color: var(--sklearn-color-fitted-level-1);\n",
       "}\n",
       "\n",
       "/* On hover */\n",
       "#sk-container-id-1 a.estimator_doc_link:hover {\n",
       "  /* unfitted */\n",
       "  background-color: var(--sklearn-color-unfitted-level-3);\n",
       "  color: var(--sklearn-color-background);\n",
       "  text-decoration: none;\n",
       "}\n",
       "\n",
       "#sk-container-id-1 a.estimator_doc_link.fitted:hover {\n",
       "  /* fitted */\n",
       "  background-color: var(--sklearn-color-fitted-level-3);\n",
       "}\n",
       "</style><div id=\"sk-container-id-1\" class=\"sk-top-container\"><div class=\"sk-text-repr-fallback\"><pre>LogisticRegression()</pre><b>In a Jupyter environment, please rerun this cell to show the HTML representation or trust the notebook. <br />On GitHub, the HTML representation is unable to render, please try loading this page with nbviewer.org.</b></div><div class=\"sk-container\" hidden><div class=\"sk-item\"><div class=\"sk-estimator fitted sk-toggleable\"><input class=\"sk-toggleable__control sk-hidden--visually\" id=\"sk-estimator-id-1\" type=\"checkbox\" checked><label for=\"sk-estimator-id-1\" class=\"sk-toggleable__label fitted sk-toggleable__label-arrow\"><div><div>LogisticRegression</div></div><div><a class=\"sk-estimator-doc-link fitted\" rel=\"noreferrer\" target=\"_blank\" href=\"https://scikit-learn.org/1.6/modules/generated/sklearn.linear_model.LogisticRegression.html\">?<span>Documentation for LogisticRegression</span></a><span class=\"sk-estimator-doc-link fitted\">i<span>Fitted</span></span></div></label><div class=\"sk-toggleable__content fitted\"><pre>LogisticRegression()</pre></div> </div></div></div></div>"
      ],
      "text/plain": [
       "LogisticRegression()"
      ]
     },
     "execution_count": 8,
     "metadata": {},
     "output_type": "execute_result"
    }
   ],
   "source": [
    "# use of Logistic regression\n",
    "from sklearn.linear_model import LogisticRegression\n",
    "\n",
    "lr = LogisticRegression()\n",
    "lr.fit(X_train_final, y_train)"
   ]
  },
  {
   "cell_type": "code",
   "execution_count": 13,
   "id": "a88166c9-69a0-4380-ac14-d97e1692722c",
   "metadata": {},
   "outputs": [
    {
     "name": "stdout",
     "output_type": "stream",
     "text": [
      "              precision    recall  f1-score   support\n",
      "\n",
      "           0       0.86      0.85      0.85     25110\n",
      "           1       0.85      0.86      0.85     24890\n",
      "\n",
      "    accuracy                           0.85     50000\n",
      "   macro avg       0.85      0.85      0.85     50000\n",
      "weighted avg       0.85      0.85      0.85     50000\n",
      "\n"
     ]
    }
   ],
   "source": [
    "y_pred_lr = lr.predict(X_test_final)\n",
    "sentiment_tra = pd.DataFrame(y_pred_lr)\n",
    "print(classification_report(y_test,y_pred_lr))"
   ]
  },
  {
   "cell_type": "code",
   "execution_count": 15,
   "id": "d03231dc-91be-4f7e-a6f6-19f2f52f59f9",
   "metadata": {},
   "outputs": [],
   "source": [
    "sentiment_tra['y_test'] = df_test_sample['label']"
   ]
  },
  {
   "cell_type": "code",
   "execution_count": 19,
   "id": "d5d6a9d2-9286-4153-8a69-79b4170eebf7",
   "metadata": {},
   "outputs": [
    {
     "data": {
      "text/html": [
       "<div>\n",
       "<style scoped>\n",
       "    .dataframe tbody tr th:only-of-type {\n",
       "        vertical-align: middle;\n",
       "    }\n",
       "\n",
       "    .dataframe tbody tr th {\n",
       "        vertical-align: top;\n",
       "    }\n",
       "\n",
       "    .dataframe thead th {\n",
       "        text-align: right;\n",
       "    }\n",
       "</style>\n",
       "<table border=\"1\" class=\"dataframe\">\n",
       "  <thead>\n",
       "    <tr style=\"text-align: right;\">\n",
       "      <th></th>\n",
       "      <th>y_pred</th>\n",
       "      <th>y_test</th>\n",
       "    </tr>\n",
       "  </thead>\n",
       "  <tbody>\n",
       "    <tr>\n",
       "      <th>0</th>\n",
       "      <td>0</td>\n",
       "      <td>1</td>\n",
       "    </tr>\n",
       "    <tr>\n",
       "      <th>1</th>\n",
       "      <td>1</td>\n",
       "      <td>1</td>\n",
       "    </tr>\n",
       "    <tr>\n",
       "      <th>2</th>\n",
       "      <td>1</td>\n",
       "      <td>1</td>\n",
       "    </tr>\n",
       "    <tr>\n",
       "      <th>3</th>\n",
       "      <td>1</td>\n",
       "      <td>1</td>\n",
       "    </tr>\n",
       "    <tr>\n",
       "      <th>4</th>\n",
       "      <td>1</td>\n",
       "      <td>1</td>\n",
       "    </tr>\n",
       "  </tbody>\n",
       "</table>\n",
       "</div>"
      ],
      "text/plain": [
       "   y_pred  y_test\n",
       "0       0       1\n",
       "1       1       1\n",
       "2       1       1\n",
       "3       1       1\n",
       "4       1       1"
      ]
     },
     "execution_count": 19,
     "metadata": {},
     "output_type": "execute_result"
    }
   ],
   "source": [
    "sentiment_tra = sentiment_tra.rename(columns={0: \"y_pred\"})  \n",
    "sentiment_tra.head()"
   ]
  },
  {
   "cell_type": "code",
   "execution_count": 20,
   "id": "aa64e777-467e-41e4-bf94-3c778b8bfb51",
   "metadata": {},
   "outputs": [],
   "source": [
    "sentiment_tra.to_csv(\"Sentiment_prediction_tra.csv\", index = False)"
   ]
  },
  {
   "cell_type": "code",
   "execution_count": 29,
   "id": "c8b57e23-62f3-4acd-8fa5-6f31c886ab5f",
   "metadata": {},
   "outputs": [],
   "source": [
    "report_sa_tra = classification_report(y_test,y_pred_lr, output_dict=True)\n",
    "\n",
    "# Convert to DataFrame\n",
    "df_report_sa_tra = pd.DataFrame(report_sa_tra).transpose()\n",
    "\n",
    "df_report_sa_tra = df_report_sa_tra[df_report_sa_tra.index.astype(str).str.isdigit()]\n",
    "df_report_sa_tra = df_report_sa_tra.apply(pd.to_numeric, errors='coerce')\n",
    "# Save to CSV\n",
    "df_report_sa_tra.to_csv(\"CR_Sentiment_trasitional.csv\", index=True)\n"
   ]
  },
  {
   "cell_type": "code",
   "execution_count": 30,
   "id": "288f4404-00de-4bac-8fef-8d3607543e04",
   "metadata": {},
   "outputs": [
    {
     "name": "stdout",
     "output_type": "stream",
     "text": [
      "   precision    recall  f1-score  support\n",
      "0   0.858370  0.847909  0.853107  25110.0\n",
      "1   0.848428  0.858859  0.853612  24890.0\n"
     ]
    }
   ],
   "source": [
    "print(df_report_sa_tra)"
   ]
  },
  {
   "cell_type": "code",
   "execution_count": 17,
   "id": "d019674a-e049-4b1c-a4ff-68e8ddd514af",
   "metadata": {},
   "outputs": [
    {
     "ename": "KeyboardInterrupt",
     "evalue": "",
     "output_type": "error",
     "traceback": [
      "\u001b[1;31m---------------------------------------------------------------------------\u001b[0m",
      "\u001b[1;31mKeyboardInterrupt\u001b[0m                         Traceback (most recent call last)",
      "Cell \u001b[1;32mIn[17], line 6\u001b[0m\n\u001b[0;32m      3\u001b[0m \u001b[38;5;28;01mfrom\u001b[39;00m\u001b[38;5;250m \u001b[39m\u001b[38;5;21;01msklearn\u001b[39;00m\u001b[38;5;21;01m.\u001b[39;00m\u001b[38;5;21;01mmetrics\u001b[39;00m\u001b[38;5;250m \u001b[39m\u001b[38;5;28;01mimport\u001b[39;00m classification_report\n\u001b[0;32m      5\u001b[0m rf_model \u001b[38;5;241m=\u001b[39m RandomForestClassifier(n_estimators\u001b[38;5;241m=\u001b[39m\u001b[38;5;241m100\u001b[39m, random_state\u001b[38;5;241m=\u001b[39m\u001b[38;5;241m42\u001b[39m)\n\u001b[1;32m----> 6\u001b[0m rf_model\u001b[38;5;241m.\u001b[39mfit(X_train_final, y_train)\n\u001b[0;32m      7\u001b[0m y_pred_rf \u001b[38;5;241m=\u001b[39m rf_model\u001b[38;5;241m.\u001b[39mpredict(X_test_final)\n\u001b[0;32m      9\u001b[0m \u001b[38;5;28mprint\u001b[39m(\u001b[38;5;124m\"\u001b[39m\u001b[38;5;124mRandom Forest Report:\u001b[39m\u001b[38;5;130;01m\\n\u001b[39;00m\u001b[38;5;124m\"\u001b[39m, classification_report(y_test, y_pred_rf))\n",
      "File \u001b[1;32m~\\anaconda3\\Lib\\site-packages\\sklearn\\base.py:1389\u001b[0m, in \u001b[0;36m_fit_context.<locals>.decorator.<locals>.wrapper\u001b[1;34m(estimator, *args, **kwargs)\u001b[0m\n\u001b[0;32m   1382\u001b[0m     estimator\u001b[38;5;241m.\u001b[39m_validate_params()\n\u001b[0;32m   1384\u001b[0m \u001b[38;5;28;01mwith\u001b[39;00m config_context(\n\u001b[0;32m   1385\u001b[0m     skip_parameter_validation\u001b[38;5;241m=\u001b[39m(\n\u001b[0;32m   1386\u001b[0m         prefer_skip_nested_validation \u001b[38;5;129;01mor\u001b[39;00m global_skip_validation\n\u001b[0;32m   1387\u001b[0m     )\n\u001b[0;32m   1388\u001b[0m ):\n\u001b[1;32m-> 1389\u001b[0m     \u001b[38;5;28;01mreturn\u001b[39;00m fit_method(estimator, \u001b[38;5;241m*\u001b[39margs, \u001b[38;5;241m*\u001b[39m\u001b[38;5;241m*\u001b[39mkwargs)\n",
      "File \u001b[1;32m~\\anaconda3\\Lib\\site-packages\\sklearn\\ensemble\\_forest.py:487\u001b[0m, in \u001b[0;36mBaseForest.fit\u001b[1;34m(self, X, y, sample_weight)\u001b[0m\n\u001b[0;32m    476\u001b[0m trees \u001b[38;5;241m=\u001b[39m [\n\u001b[0;32m    477\u001b[0m     \u001b[38;5;28mself\u001b[39m\u001b[38;5;241m.\u001b[39m_make_estimator(append\u001b[38;5;241m=\u001b[39m\u001b[38;5;28;01mFalse\u001b[39;00m, random_state\u001b[38;5;241m=\u001b[39mrandom_state)\n\u001b[0;32m    478\u001b[0m     \u001b[38;5;28;01mfor\u001b[39;00m i \u001b[38;5;129;01min\u001b[39;00m \u001b[38;5;28mrange\u001b[39m(n_more_estimators)\n\u001b[0;32m    479\u001b[0m ]\n\u001b[0;32m    481\u001b[0m \u001b[38;5;66;03m# Parallel loop: we prefer the threading backend as the Cython code\u001b[39;00m\n\u001b[0;32m    482\u001b[0m \u001b[38;5;66;03m# for fitting the trees is internally releasing the Python GIL\u001b[39;00m\n\u001b[0;32m    483\u001b[0m \u001b[38;5;66;03m# making threading more efficient than multiprocessing in\u001b[39;00m\n\u001b[0;32m    484\u001b[0m \u001b[38;5;66;03m# that case. However, for joblib 0.12+ we respect any\u001b[39;00m\n\u001b[0;32m    485\u001b[0m \u001b[38;5;66;03m# parallel_backend contexts set at a higher level,\u001b[39;00m\n\u001b[0;32m    486\u001b[0m \u001b[38;5;66;03m# since correctness does not rely on using threads.\u001b[39;00m\n\u001b[1;32m--> 487\u001b[0m trees \u001b[38;5;241m=\u001b[39m Parallel(\n\u001b[0;32m    488\u001b[0m     n_jobs\u001b[38;5;241m=\u001b[39m\u001b[38;5;28mself\u001b[39m\u001b[38;5;241m.\u001b[39mn_jobs,\n\u001b[0;32m    489\u001b[0m     verbose\u001b[38;5;241m=\u001b[39m\u001b[38;5;28mself\u001b[39m\u001b[38;5;241m.\u001b[39mverbose,\n\u001b[0;32m    490\u001b[0m     prefer\u001b[38;5;241m=\u001b[39m\u001b[38;5;124m\"\u001b[39m\u001b[38;5;124mthreads\u001b[39m\u001b[38;5;124m\"\u001b[39m,\n\u001b[0;32m    491\u001b[0m )(\n\u001b[0;32m    492\u001b[0m     delayed(_parallel_build_trees)(\n\u001b[0;32m    493\u001b[0m         t,\n\u001b[0;32m    494\u001b[0m         \u001b[38;5;28mself\u001b[39m\u001b[38;5;241m.\u001b[39mbootstrap,\n\u001b[0;32m    495\u001b[0m         X,\n\u001b[0;32m    496\u001b[0m         y,\n\u001b[0;32m    497\u001b[0m         sample_weight,\n\u001b[0;32m    498\u001b[0m         i,\n\u001b[0;32m    499\u001b[0m         \u001b[38;5;28mlen\u001b[39m(trees),\n\u001b[0;32m    500\u001b[0m         verbose\u001b[38;5;241m=\u001b[39m\u001b[38;5;28mself\u001b[39m\u001b[38;5;241m.\u001b[39mverbose,\n\u001b[0;32m    501\u001b[0m         class_weight\u001b[38;5;241m=\u001b[39m\u001b[38;5;28mself\u001b[39m\u001b[38;5;241m.\u001b[39mclass_weight,\n\u001b[0;32m    502\u001b[0m         n_samples_bootstrap\u001b[38;5;241m=\u001b[39mn_samples_bootstrap,\n\u001b[0;32m    503\u001b[0m         missing_values_in_feature_mask\u001b[38;5;241m=\u001b[39mmissing_values_in_feature_mask,\n\u001b[0;32m    504\u001b[0m     )\n\u001b[0;32m    505\u001b[0m     \u001b[38;5;28;01mfor\u001b[39;00m i, t \u001b[38;5;129;01min\u001b[39;00m \u001b[38;5;28menumerate\u001b[39m(trees)\n\u001b[0;32m    506\u001b[0m )\n\u001b[0;32m    508\u001b[0m \u001b[38;5;66;03m# Collect newly grown trees\u001b[39;00m\n\u001b[0;32m    509\u001b[0m \u001b[38;5;28mself\u001b[39m\u001b[38;5;241m.\u001b[39mestimators_\u001b[38;5;241m.\u001b[39mextend(trees)\n",
      "File \u001b[1;32m~\\anaconda3\\Lib\\site-packages\\sklearn\\utils\\parallel.py:77\u001b[0m, in \u001b[0;36mParallel.__call__\u001b[1;34m(self, iterable)\u001b[0m\n\u001b[0;32m     72\u001b[0m config \u001b[38;5;241m=\u001b[39m get_config()\n\u001b[0;32m     73\u001b[0m iterable_with_config \u001b[38;5;241m=\u001b[39m (\n\u001b[0;32m     74\u001b[0m     (_with_config(delayed_func, config), args, kwargs)\n\u001b[0;32m     75\u001b[0m     \u001b[38;5;28;01mfor\u001b[39;00m delayed_func, args, kwargs \u001b[38;5;129;01min\u001b[39;00m iterable\n\u001b[0;32m     76\u001b[0m )\n\u001b[1;32m---> 77\u001b[0m \u001b[38;5;28;01mreturn\u001b[39;00m \u001b[38;5;28msuper\u001b[39m()\u001b[38;5;241m.\u001b[39m\u001b[38;5;21m__call__\u001b[39m(iterable_with_config)\n",
      "File \u001b[1;32m~\\anaconda3\\Lib\\site-packages\\joblib\\parallel.py:1918\u001b[0m, in \u001b[0;36mParallel.__call__\u001b[1;34m(self, iterable)\u001b[0m\n\u001b[0;32m   1916\u001b[0m     output \u001b[38;5;241m=\u001b[39m \u001b[38;5;28mself\u001b[39m\u001b[38;5;241m.\u001b[39m_get_sequential_output(iterable)\n\u001b[0;32m   1917\u001b[0m     \u001b[38;5;28mnext\u001b[39m(output)\n\u001b[1;32m-> 1918\u001b[0m     \u001b[38;5;28;01mreturn\u001b[39;00m output \u001b[38;5;28;01mif\u001b[39;00m \u001b[38;5;28mself\u001b[39m\u001b[38;5;241m.\u001b[39mreturn_generator \u001b[38;5;28;01melse\u001b[39;00m \u001b[38;5;28mlist\u001b[39m(output)\n\u001b[0;32m   1920\u001b[0m \u001b[38;5;66;03m# Let's create an ID that uniquely identifies the current call. If the\u001b[39;00m\n\u001b[0;32m   1921\u001b[0m \u001b[38;5;66;03m# call is interrupted early and that the same instance is immediately\u001b[39;00m\n\u001b[0;32m   1922\u001b[0m \u001b[38;5;66;03m# re-used, this id will be used to prevent workers that were\u001b[39;00m\n\u001b[0;32m   1923\u001b[0m \u001b[38;5;66;03m# concurrently finalizing a task from the previous call to run the\u001b[39;00m\n\u001b[0;32m   1924\u001b[0m \u001b[38;5;66;03m# callback.\u001b[39;00m\n\u001b[0;32m   1925\u001b[0m \u001b[38;5;28;01mwith\u001b[39;00m \u001b[38;5;28mself\u001b[39m\u001b[38;5;241m.\u001b[39m_lock:\n",
      "File \u001b[1;32m~\\anaconda3\\Lib\\site-packages\\joblib\\parallel.py:1847\u001b[0m, in \u001b[0;36mParallel._get_sequential_output\u001b[1;34m(self, iterable)\u001b[0m\n\u001b[0;32m   1845\u001b[0m \u001b[38;5;28mself\u001b[39m\u001b[38;5;241m.\u001b[39mn_dispatched_batches \u001b[38;5;241m+\u001b[39m\u001b[38;5;241m=\u001b[39m \u001b[38;5;241m1\u001b[39m\n\u001b[0;32m   1846\u001b[0m \u001b[38;5;28mself\u001b[39m\u001b[38;5;241m.\u001b[39mn_dispatched_tasks \u001b[38;5;241m+\u001b[39m\u001b[38;5;241m=\u001b[39m \u001b[38;5;241m1\u001b[39m\n\u001b[1;32m-> 1847\u001b[0m res \u001b[38;5;241m=\u001b[39m func(\u001b[38;5;241m*\u001b[39margs, \u001b[38;5;241m*\u001b[39m\u001b[38;5;241m*\u001b[39mkwargs)\n\u001b[0;32m   1848\u001b[0m \u001b[38;5;28mself\u001b[39m\u001b[38;5;241m.\u001b[39mn_completed_tasks \u001b[38;5;241m+\u001b[39m\u001b[38;5;241m=\u001b[39m \u001b[38;5;241m1\u001b[39m\n\u001b[0;32m   1849\u001b[0m \u001b[38;5;28mself\u001b[39m\u001b[38;5;241m.\u001b[39mprint_progress()\n",
      "File \u001b[1;32m~\\anaconda3\\Lib\\site-packages\\sklearn\\utils\\parallel.py:139\u001b[0m, in \u001b[0;36m_FuncWrapper.__call__\u001b[1;34m(self, *args, **kwargs)\u001b[0m\n\u001b[0;32m    137\u001b[0m     config \u001b[38;5;241m=\u001b[39m {}\n\u001b[0;32m    138\u001b[0m \u001b[38;5;28;01mwith\u001b[39;00m config_context(\u001b[38;5;241m*\u001b[39m\u001b[38;5;241m*\u001b[39mconfig):\n\u001b[1;32m--> 139\u001b[0m     \u001b[38;5;28;01mreturn\u001b[39;00m \u001b[38;5;28mself\u001b[39m\u001b[38;5;241m.\u001b[39mfunction(\u001b[38;5;241m*\u001b[39margs, \u001b[38;5;241m*\u001b[39m\u001b[38;5;241m*\u001b[39mkwargs)\n",
      "File \u001b[1;32m~\\anaconda3\\Lib\\site-packages\\sklearn\\ensemble\\_forest.py:189\u001b[0m, in \u001b[0;36m_parallel_build_trees\u001b[1;34m(tree, bootstrap, X, y, sample_weight, tree_idx, n_trees, verbose, class_weight, n_samples_bootstrap, missing_values_in_feature_mask)\u001b[0m\n\u001b[0;32m    186\u001b[0m     \u001b[38;5;28;01melif\u001b[39;00m class_weight \u001b[38;5;241m==\u001b[39m \u001b[38;5;124m\"\u001b[39m\u001b[38;5;124mbalanced_subsample\u001b[39m\u001b[38;5;124m\"\u001b[39m:\n\u001b[0;32m    187\u001b[0m         curr_sample_weight \u001b[38;5;241m*\u001b[39m\u001b[38;5;241m=\u001b[39m compute_sample_weight(\u001b[38;5;124m\"\u001b[39m\u001b[38;5;124mbalanced\u001b[39m\u001b[38;5;124m\"\u001b[39m, y, indices\u001b[38;5;241m=\u001b[39mindices)\n\u001b[1;32m--> 189\u001b[0m     tree\u001b[38;5;241m.\u001b[39m_fit(\n\u001b[0;32m    190\u001b[0m         X,\n\u001b[0;32m    191\u001b[0m         y,\n\u001b[0;32m    192\u001b[0m         sample_weight\u001b[38;5;241m=\u001b[39mcurr_sample_weight,\n\u001b[0;32m    193\u001b[0m         check_input\u001b[38;5;241m=\u001b[39m\u001b[38;5;28;01mFalse\u001b[39;00m,\n\u001b[0;32m    194\u001b[0m         missing_values_in_feature_mask\u001b[38;5;241m=\u001b[39mmissing_values_in_feature_mask,\n\u001b[0;32m    195\u001b[0m     )\n\u001b[0;32m    196\u001b[0m \u001b[38;5;28;01melse\u001b[39;00m:\n\u001b[0;32m    197\u001b[0m     tree\u001b[38;5;241m.\u001b[39m_fit(\n\u001b[0;32m    198\u001b[0m         X,\n\u001b[0;32m    199\u001b[0m         y,\n\u001b[1;32m   (...)\u001b[0m\n\u001b[0;32m    202\u001b[0m         missing_values_in_feature_mask\u001b[38;5;241m=\u001b[39mmissing_values_in_feature_mask,\n\u001b[0;32m    203\u001b[0m     )\n",
      "File \u001b[1;32m~\\anaconda3\\Lib\\site-packages\\sklearn\\tree\\_classes.py:472\u001b[0m, in \u001b[0;36mBaseDecisionTree._fit\u001b[1;34m(self, X, y, sample_weight, check_input, missing_values_in_feature_mask)\u001b[0m\n\u001b[0;32m    461\u001b[0m \u001b[38;5;28;01melse\u001b[39;00m:\n\u001b[0;32m    462\u001b[0m     builder \u001b[38;5;241m=\u001b[39m BestFirstTreeBuilder(\n\u001b[0;32m    463\u001b[0m         splitter,\n\u001b[0;32m    464\u001b[0m         min_samples_split,\n\u001b[1;32m   (...)\u001b[0m\n\u001b[0;32m    469\u001b[0m         \u001b[38;5;28mself\u001b[39m\u001b[38;5;241m.\u001b[39mmin_impurity_decrease,\n\u001b[0;32m    470\u001b[0m     )\n\u001b[1;32m--> 472\u001b[0m builder\u001b[38;5;241m.\u001b[39mbuild(\u001b[38;5;28mself\u001b[39m\u001b[38;5;241m.\u001b[39mtree_, X, y, sample_weight, missing_values_in_feature_mask)\n\u001b[0;32m    474\u001b[0m \u001b[38;5;28;01mif\u001b[39;00m \u001b[38;5;28mself\u001b[39m\u001b[38;5;241m.\u001b[39mn_outputs_ \u001b[38;5;241m==\u001b[39m \u001b[38;5;241m1\u001b[39m \u001b[38;5;129;01mand\u001b[39;00m is_classifier(\u001b[38;5;28mself\u001b[39m):\n\u001b[0;32m    475\u001b[0m     \u001b[38;5;28mself\u001b[39m\u001b[38;5;241m.\u001b[39mn_classes_ \u001b[38;5;241m=\u001b[39m \u001b[38;5;28mself\u001b[39m\u001b[38;5;241m.\u001b[39mn_classes_[\u001b[38;5;241m0\u001b[39m]\n",
      "\u001b[1;31mKeyboardInterrupt\u001b[0m: "
     ]
    }
   ],
   "source": [
    "# Model Training using Random Forest\n",
    "from sklearn.ensemble import RandomForestClassifier\n",
    "from sklearn.metrics import classification_report\n",
    "\n",
    "rf_model = RandomForestClassifier(n_estimators=100, random_state=42)\n",
    "rf_model.fit(X_train_final, y_train)\n",
    "y_pred_rf = rf_model.predict(X_test_final)\n",
    "\n",
    "print(\"Random Forest Report:\\n\", classification_report(y_test, y_pred_rf))\n"
   ]
  },
  {
   "cell_type": "code",
   "execution_count": 17,
   "id": "99659d0f-bae9-4474-964e-7e4b68f719d4",
   "metadata": {},
   "outputs": [
    {
     "name": "stdout",
     "output_type": "stream",
     "text": [
      "SVM Report:\n",
      "               precision    recall  f1-score   support\n",
      "\n",
      "           0       0.85      0.85      0.85     25110\n",
      "           1       0.85      0.85      0.85     24890\n",
      "\n",
      "    accuracy                           0.85     50000\n",
      "   macro avg       0.85      0.85      0.85     50000\n",
      "weighted avg       0.85      0.85      0.85     50000\n",
      "\n"
     ]
    }
   ],
   "source": [
    "from sklearn.svm import LinearSVC\n",
    "\n",
    "svm_model = LinearSVC()\n",
    "svm_model.fit(X_train_tfidf, y_train)\n",
    "y_pred_svm = svm_model.predict(X_test_tfidf)\n",
    "\n",
    "print(\"SVM Report:\\n\", classification_report(y_test, y_pred_svm))\n"
   ]
  },
  {
   "cell_type": "code",
   "execution_count": 26,
   "id": "4b598a5e-a71e-49a0-8e21-4c3fa0a6884d",
   "metadata": {},
   "outputs": [
    {
     "data": {
      "text/plain": [
       "['models/logistic_clf.joblib']"
      ]
     },
     "execution_count": 26,
     "metadata": {},
     "output_type": "execute_result"
    }
   ],
   "source": [
    "# exporting the vectoriser and classfier\n",
    "import joblib\n",
    "\n",
    "# vectorizer\n",
    "joblib.dump(vectorizer, \"models/tfidf_vectorizer.joblib\")\n",
    "\n",
    "# Classifiers\n",
    "joblib.dump(lr, \"models/logistic_clf.joblib\")\n",
    "#joblib.dump(svm_model, \"models/svm_clf.joblib\")\n",
    "\n"
   ]
  },
  {
   "cell_type": "code",
   "execution_count": 10,
   "id": "b0c1d9dc-b3c2-4eb5-a908-0d6df7464852",
   "metadata": {},
   "outputs": [
    {
     "name": "stderr",
     "output_type": "stream",
     "text": [
      "C:\\Users\\Krishnapriya\\anaconda3\\Lib\\site-packages\\xgboost\\training.py:183: UserWarning: [22:03:25] WARNING: C:\\actions-runner\\_work\\xgboost\\xgboost\\src\\learner.cc:738: \n",
      "Parameters: { \"use_label_encoder\" } are not used.\n",
      "\n",
      "  bst.update(dtrain, iteration=i, fobj=obj)\n"
     ]
    },
    {
     "name": "stdout",
     "output_type": "stream",
     "text": [
      "XGBoost Report:\n",
      "               precision    recall  f1-score   support\n",
      "\n",
      "           0       0.82      0.82      0.82     25110\n",
      "           1       0.82      0.82      0.82     24890\n",
      "\n",
      "    accuracy                           0.82     50000\n",
      "   macro avg       0.82      0.82      0.82     50000\n",
      "weighted avg       0.82      0.82      0.82     50000\n",
      "\n"
     ]
    }
   ],
   "source": [
    "from xgboost import XGBClassifier\n",
    "\n",
    "xgb_model = XGBClassifier(use_label_encoder=False, eval_metric='logloss')\n",
    "xgb_model.fit(X_train_tfidf, y_train)\n",
    "y_pred_xgb = xgb_model.predict(X_test_tfidf)\n",
    "\n",
    "print(\"XGBoost Report:\\n\", classification_report(y_test, y_pred_xgb))\n"
   ]
  },
  {
   "cell_type": "markdown",
   "id": "bbb38a5f-7ef2-498b-aca9-9739f0658b90",
   "metadata": {},
   "source": [
    "### 1.5 Hyperparameter Tuning Logistic Regression and SVM <a id=\"subsection5\"></a>"
   ]
  },
  {
   "cell_type": "code",
   "execution_count": 21,
   "id": "7fa95558-7939-4e70-9979-468ab003b3bc",
   "metadata": {},
   "outputs": [
    {
     "name": "stdout",
     "output_type": "stream",
     "text": [
      "Fitting 5 folds for each of 8 candidates, totalling 40 fits\n",
      "Best Logistic Regression Params: {'C': 1, 'penalty': 'l2', 'solver': 'saga'}\n",
      "Tuned Logistic Regression Report:\n",
      "               precision    recall  f1-score   support\n",
      "\n",
      "           0       0.86      0.85      0.85     25110\n",
      "           1       0.85      0.85      0.85     24890\n",
      "\n",
      "    accuracy                           0.85     50000\n",
      "   macro avg       0.85      0.85      0.85     50000\n",
      "weighted avg       0.85      0.85      0.85     50000\n",
      "\n"
     ]
    }
   ],
   "source": [
    "# Logistic Regression\n",
    "from sklearn.linear_model import LogisticRegression\n",
    "from sklearn.model_selection import GridSearchCV\n",
    "\n",
    "# Define hyperparameter grid\n",
    "param_grid_lr = {\n",
    "    'C': [0.01, 0.1, 1, 10],\n",
    "    'penalty': ['l2'],\n",
    "    'solver': ['liblinear', 'saga']\n",
    "}\n",
    "\n",
    "# Instantiate model\n",
    "lr = LogisticRegression(max_iter=1000)\n",
    "\n",
    "# Grid search\n",
    "grid_search_lr = GridSearchCV(lr, param_grid_lr, cv=5, scoring='accuracy', verbose=1, n_jobs=-1)\n",
    "grid_search_lr.fit(X_train_tfidf, y_train)\n",
    "\n",
    "# Best model and evaluation\n",
    "best_lr = grid_search_lr.best_estimator_\n",
    "y_pred_lr = best_lr.predict(X_test_tfidf)\n",
    "\n",
    "from sklearn.metrics import classification_report\n",
    "print(\"Best Logistic Regression Params:\", grid_search_lr.best_params_)\n",
    "print(\"Tuned Logistic Regression Report:\\n\", classification_report(y_test, y_pred_lr))\n"
   ]
  },
  {
   "cell_type": "code",
   "execution_count": 22,
   "id": "08f8b340-6626-4d7b-97c7-da7009a91184",
   "metadata": {},
   "outputs": [
    {
     "name": "stdout",
     "output_type": "stream",
     "text": [
      "Fitting 5 folds for each of 10 candidates, totalling 50 fits\n",
      "Best SVM Params: {'C': 0.1, 'loss': 'squared_hinge'}\n",
      "Tuned SVM Report:\n",
      "               precision    recall  f1-score   support\n",
      "\n",
      "           0       0.86      0.85      0.86     25110\n",
      "           1       0.85      0.86      0.85     24890\n",
      "\n",
      "    accuracy                           0.85     50000\n",
      "   macro avg       0.85      0.85      0.85     50000\n",
      "weighted avg       0.85      0.85      0.85     50000\n",
      "\n"
     ]
    }
   ],
   "source": [
    "# SVM\n",
    "from sklearn.svm import LinearSVC\n",
    "\n",
    "param_grid_svc = {\n",
    "    'C': [0.01, 0.1, 1, 10, 100],\n",
    "    'loss': ['hinge', 'squared_hinge']\n",
    "}\n",
    "\n",
    "svc = LinearSVC(max_iter=2000)\n",
    "\n",
    "grid_search_svc = GridSearchCV(svc, param_grid_svc, cv=5, scoring='accuracy', verbose=1, n_jobs=-1)\n",
    "grid_search_svc.fit(X_train_tfidf, y_train)\n",
    "\n",
    "best_svc = grid_search_svc.best_estimator_\n",
    "y_pred_svc = best_svc.predict(X_test_tfidf)\n",
    "\n",
    "print(\"Best SVM Params:\", grid_search_svc.best_params_)\n",
    "print(\"Tuned SVM Report:\\n\", classification_report(y_test, y_pred_svc))\n"
   ]
  },
  {
   "cell_type": "markdown",
   "id": "c63f77c5-4b85-4f02-92b9-70f6633c9a30",
   "metadata": {},
   "source": [
    "### 1.6 Traditional Model Visualisation and Insights <a id=\"subsection6\"></a>"
   ]
  },
  {
   "cell_type": "markdown",
   "id": "c932947e-1d9b-4dad-8d51-107c41f14170",
   "metadata": {},
   "source": [
    "### 1.7 Transformer Based Model Training for Sentiment Analysis <a id=\"subsection7\"></a>\n",
    "**Why Use Transformer-Based Models?**   \n",
    "Traditional ML (e.g., Naive Bayes, SVM) and even LSTMs struggle with understanding context. Transformers like BERT solve this by using self-attention, and are pretrained on massive corpora—so they \"understand\" language better."
   ]
  },
  {
   "cell_type": "code",
   "execution_count": 2,
   "id": "9337511c-36c9-449d-905d-376af5af66c6",
   "metadata": {},
   "outputs": [],
   "source": [
    "import warnings\n",
    "warnings.filterwarnings('ignore')  "
   ]
  },
  {
   "cell_type": "code",
   "execution_count": 10,
   "id": "20170207-c68c-434d-b38b-5de5527bb556",
   "metadata": {},
   "outputs": [
    {
     "name": "stderr",
     "output_type": "stream",
     "text": [
      "Device set to use cpu\n"
     ]
    },
    {
     "name": "stdout",
     "output_type": "stream",
     "text": [
      "[{'label': 'POSITIVE', 'score': 0.9998831748962402}]\n"
     ]
    }
   ],
   "source": [
    "from transformers import pipeline, AutoModelForSequenceClassification, AutoTokenizer\n",
    "\n",
    "# Model name\n",
    "model_name = \"distilbert-base-uncased-finetuned-sst-2-english\"\n",
    "\n",
    "# Load tokenizer and model\n",
    "tokenizer = AutoTokenizer.from_pretrained(model_name)\n",
    "model = AutoModelForSequenceClassification.from_pretrained(model_name)\n",
    "\n",
    "# Create the pipeline\n",
    "sentiment_pipeline = pipeline(\n",
    "    \"sentiment-analysis\",\n",
    "    model=model,\n",
    "    tokenizer=tokenizer\n",
    ")\n",
    "\n",
    "# Example usage\n",
    "text = \"I absolutely loved this product! It's fantastic.\"\n",
    "result = sentiment_pipeline(text)\n",
    "print(result)"
   ]
  },
  {
   "cell_type": "code",
   "execution_count": 11,
   "id": "c3f73592-580c-4005-a5e2-788fb315d776",
   "metadata": {},
   "outputs": [
    {
     "data": {
      "text/plain": [
       "('models/transformer_sentiment\\\\tokenizer_config.json',\n",
       " 'models/transformer_sentiment\\\\special_tokens_map.json',\n",
       " 'models/transformer_sentiment\\\\vocab.txt',\n",
       " 'models/transformer_sentiment\\\\added_tokens.json',\n",
       " 'models/transformer_sentiment\\\\tokenizer.json')"
      ]
     },
     "execution_count": 11,
     "metadata": {},
     "output_type": "execute_result"
    }
   ],
   "source": [
    "# Save model and tokenizer\n",
    "model.save_pretrained(\"models/transformer_sentiment\")\n",
    "tokenizer.save_pretrained(\"models/transformer_sentiment\")"
   ]
  },
  {
   "cell_type": "code",
   "execution_count": 22,
   "id": "63848e11-2647-425e-a34c-669b39bba5b1",
   "metadata": {},
   "outputs": [],
   "source": [
    "import pandas as pd\n",
    "import tqdm\n",
    "\n",
    "\n",
    "df = pd.read_csv(\"df_train_sample.csv\")  \n"
   ]
  },
  {
   "cell_type": "code",
   "execution_count": 13,
   "id": "fc81d654-2d83-425f-85f1-7f595ddf279d",
   "metadata": {},
   "outputs": [
    {
     "name": "stderr",
     "output_type": "stream",
     "text": [
      "100%|████████████████████████████████████████████████████████████████████████████| 3125/3125 [3:09:05<00:00,  3.63s/it]\n"
     ]
    }
   ],
   "source": [
    "# Train Clasification\n",
    "\n",
    "from tqdm import tqdm\n",
    "\n",
    "# Convert to list\n",
    "texts = df['cleaned_content_tr'].tolist()\n",
    "\n",
    "# Process in batches\n",
    "batch_size = 32\n",
    "sentiments = []\n",
    "\n",
    "for i in tqdm(range(0, len(texts), batch_size)):\n",
    "    batch = texts[i:i+batch_size]\n",
    "    results = sentiment_pipeline(batch)\n",
    "    sentiments.extend([res['label'] for res in results])\n",
    "\n",
    "# Assign back to DataFrame\n",
    "df['sentiment'] = sentiments\n"
   ]
  },
  {
   "cell_type": "code",
   "execution_count": 5,
   "id": "4124b285-daff-45e4-b646-3784a8d03647",
   "metadata": {},
   "outputs": [],
   "source": [
    "df_test = pd.read_csv(\"df_test_sample.csv\")"
   ]
  },
  {
   "cell_type": "code",
   "execution_count": 6,
   "id": "e745b810-0e22-4a63-b8cf-fff6b7578543",
   "metadata": {},
   "outputs": [
    {
     "name": "stderr",
     "output_type": "stream",
     "text": [
      "100%|████████████████████████████████████████████████████████████████████████████| 1563/1563 [2:15:11<00:00,  5.19s/it]\n"
     ]
    }
   ],
   "source": [
    "# Test classification\n",
    "\n",
    "# Convert to list\n",
    "from tqdm import tqdm\n",
    "texts = df_test['cleaned_content_ts'].tolist()\n",
    "\n",
    "# Process in batches\n",
    "batch_size = 32\n",
    "sentiments = []\n",
    "\n",
    "for i in tqdm(range(0, len(texts), batch_size)):\n",
    "    batch = texts[i:i+batch_size]\n",
    "    results = sentiment_pipeline(batch)\n",
    "    sentiments.extend([res['label'] for res in results])\n",
    "\n",
    "# Assign back to DataFrame\n",
    "df_test['sentiment'] = sentiments\n"
   ]
  },
  {
   "cell_type": "code",
   "execution_count": 7,
   "id": "d382a6db-468a-4ea6-abc1-9b6eab726fcd",
   "metadata": {},
   "outputs": [],
   "source": [
    "df_test.to_csv(\"LLM_sentiment_ts.csv\", index = False)"
   ]
  },
  {
   "cell_type": "code",
   "execution_count": 15,
   "id": "b5f89b28-b856-4a96-927e-e7b583eb3430",
   "metadata": {},
   "outputs": [],
   "source": [
    "df.to_csv(\"LLM_sentiment_tr.csv\", index = False)"
   ]
  },
  {
   "cell_type": "code",
   "execution_count": 6,
   "id": "02ed5f10-b271-49c8-9e52-8b3443dd9cde",
   "metadata": {},
   "outputs": [
    {
     "data": {
      "text/plain": [
       "sentiment\n",
       "0    62610\n",
       "1    37390\n",
       "Name: count, dtype: int64"
      ]
     },
     "execution_count": 6,
     "metadata": {},
     "output_type": "execute_result"
    }
   ],
   "source": [
    "df_train['sentiment'].value_counts()"
   ]
  },
  {
   "cell_type": "markdown",
   "id": "727f3d17-2050-4af4-b003-d842fec3dd6f",
   "metadata": {},
   "source": [
    "### 1.8 Transformer Model Evaluation <a id=\"subsection8\"></a>"
   ]
  },
  {
   "cell_type": "code",
   "execution_count": 21,
   "id": "fb6bf017-970c-4ac7-b307-e239304286a3",
   "metadata": {},
   "outputs": [],
   "source": [
    "df_test = pd.read_csv(\"LLM_sentiment_ts.csv\")\n"
   ]
  },
  {
   "cell_type": "code",
   "execution_count": 22,
   "id": "722d7f1f-0003-4bc8-ba19-c599fb6c70cb",
   "metadata": {},
   "outputs": [],
   "source": [
    "df_test['sentiments_label'] = df_test['sentiment'].map({\"POSITIVE\":1, \"NEGATIVE\":0})"
   ]
  },
  {
   "cell_type": "code",
   "execution_count": 23,
   "id": "ea47555d-48c1-48b2-9ba1-9e54147a5801",
   "metadata": {},
   "outputs": [
    {
     "data": {
      "text/html": [
       "<div>\n",
       "<style scoped>\n",
       "    .dataframe tbody tr th:only-of-type {\n",
       "        vertical-align: middle;\n",
       "    }\n",
       "\n",
       "    .dataframe tbody tr th {\n",
       "        vertical-align: top;\n",
       "    }\n",
       "\n",
       "    .dataframe thead th {\n",
       "        text-align: right;\n",
       "    }\n",
       "</style>\n",
       "<table border=\"1\" class=\"dataframe\">\n",
       "  <thead>\n",
       "    <tr style=\"text-align: right;\">\n",
       "      <th></th>\n",
       "      <th>label</th>\n",
       "      <th>title</th>\n",
       "      <th>content</th>\n",
       "      <th>cleaned_content_ts</th>\n",
       "      <th>sentiment</th>\n",
       "      <th>sentiments_label</th>\n",
       "    </tr>\n",
       "  </thead>\n",
       "  <tbody>\n",
       "    <tr>\n",
       "      <th>0</th>\n",
       "      <td>1</td>\n",
       "      <td>Unbelievable</td>\n",
       "      <td>When I read this book I had to keep reminding ...</td>\n",
       "      <td>read book keep reminding real person fictional...</td>\n",
       "      <td>POSITIVE</td>\n",
       "      <td>1</td>\n",
       "    </tr>\n",
       "    <tr>\n",
       "      <th>1</th>\n",
       "      <td>1</td>\n",
       "      <td>Thank You, Al Franken!</td>\n",
       "      <td>I know if you're a conservative, you'll think ...</td>\n",
       "      <td>know youre conservative youll think another li...</td>\n",
       "      <td>NEGATIVE</td>\n",
       "      <td>0</td>\n",
       "    </tr>\n",
       "    <tr>\n",
       "      <th>2</th>\n",
       "      <td>1</td>\n",
       "      <td>Funny!</td>\n",
       "      <td>I love this movie. Can't say that enough. Rick...</td>\n",
       "      <td>love movie cant say enough rick moranis federa...</td>\n",
       "      <td>POSITIVE</td>\n",
       "      <td>1</td>\n",
       "    </tr>\n",
       "    <tr>\n",
       "      <th>3</th>\n",
       "      <td>1</td>\n",
       "      <td>Limbo is pure storytelling.</td>\n",
       "      <td>When I first saw Sayles film \"Lone Star,\" it t...</td>\n",
       "      <td>first saw sayles film lone star touched level ...</td>\n",
       "      <td>POSITIVE</td>\n",
       "      <td>1</td>\n",
       "    </tr>\n",
       "    <tr>\n",
       "      <th>4</th>\n",
       "      <td>1</td>\n",
       "      <td>Lovely performance</td>\n",
       "      <td>It is one of the greatest operas, the producti...</td>\n",
       "      <td>one greatest opera production fine singer orch...</td>\n",
       "      <td>POSITIVE</td>\n",
       "      <td>1</td>\n",
       "    </tr>\n",
       "  </tbody>\n",
       "</table>\n",
       "</div>"
      ],
      "text/plain": [
       "   label                        title  \\\n",
       "0      1                 Unbelievable   \n",
       "1      1       Thank You, Al Franken!   \n",
       "2      1                       Funny!   \n",
       "3      1  Limbo is pure storytelling.   \n",
       "4      1           Lovely performance   \n",
       "\n",
       "                                             content  \\\n",
       "0  When I read this book I had to keep reminding ...   \n",
       "1  I know if you're a conservative, you'll think ...   \n",
       "2  I love this movie. Can't say that enough. Rick...   \n",
       "3  When I first saw Sayles film \"Lone Star,\" it t...   \n",
       "4  It is one of the greatest operas, the producti...   \n",
       "\n",
       "                                  cleaned_content_ts sentiment  \\\n",
       "0  read book keep reminding real person fictional...  POSITIVE   \n",
       "1  know youre conservative youll think another li...  NEGATIVE   \n",
       "2  love movie cant say enough rick moranis federa...  POSITIVE   \n",
       "3  first saw sayles film lone star touched level ...  POSITIVE   \n",
       "4  one greatest opera production fine singer orch...  POSITIVE   \n",
       "\n",
       "   sentiments_label  \n",
       "0                 1  \n",
       "1                 0  \n",
       "2                 1  \n",
       "3                 1  \n",
       "4                 1  "
      ]
     },
     "execution_count": 23,
     "metadata": {},
     "output_type": "execute_result"
    }
   ],
   "source": [
    "df_test.head()"
   ]
  },
  {
   "cell_type": "code",
   "execution_count": 24,
   "id": "cb82480b-301d-493c-a7ee-1178805dff12",
   "metadata": {},
   "outputs": [],
   "source": [
    "sentiment_gpt = df_test[['label', 'sentiments_label']].copy()\n",
    "sentiment_gpt.to_csv(\"Sentiment_prediction_gpt.csv\", index = False)"
   ]
  },
  {
   "cell_type": "code",
   "execution_count": 23,
   "id": "b822200a-2f66-4506-a06f-133ee8337fd2",
   "metadata": {},
   "outputs": [
    {
     "name": "stdout",
     "output_type": "stream",
     "text": [
      "Accuracy: 0.7772\n",
      "\n",
      "Classification Report:\n",
      "              precision    recall  f1-score   support\n",
      "\n",
      "    POSITIVE       0.72      0.90      0.80     25110\n",
      "    NEGATIVE       0.87      0.65      0.74     24890\n",
      "\n",
      "    accuracy                           0.78     50000\n",
      "   macro avg       0.80      0.78      0.77     50000\n",
      "weighted avg       0.80      0.78      0.77     50000\n",
      "\n"
     ]
    }
   ],
   "source": [
    "from sklearn.metrics import accuracy_score, classification_report\n",
    "\n",
    "# Calculate accuracy\n",
    "# Now calculate metrics with consistent label types\n",
    "accuracy = accuracy_score(df_test['label'], df_test['sentiments_label'])\n",
    "report = classification_report(df_test['label'], df_test['sentiments_label'],\n",
    "                              target_names=['POSITIVE', 'NEGATIVE'])  # Match original label order\n",
    "\n",
    "print(f\"Accuracy: {accuracy:.4f}\")\n",
    "print(\"\\nClassification Report:\")\n",
    "print(report)"
   ]
  },
  {
   "cell_type": "code",
   "execution_count": 31,
   "id": "d2b9e155-e508-4db6-95ef-7a597383e994",
   "metadata": {},
   "outputs": [],
   "source": [
    "report_sa_gpt = classification_report(df_test['label'], df_test['sentiments_label'], output_dict=True)\n",
    "\n",
    "# Convert to DataFrame\n",
    "df_report_sa_gpt = pd.DataFrame(report_sa_gpt).transpose()\n",
    "\n",
    "df_report_sa_gpt = df_report_sa_gpt[df_report_sa_gpt.index.astype(str).str.isdigit()]\n",
    "\n",
    "df_report_sa_gpt = df_report_sa_gpt.apply(pd.to_numeric, errors='coerce')\n",
    "\n",
    "# Save to CSV\n",
    "df_report_sa_gpt.to_csv(\"CR_Sentiment_GPT.csv\", index=True)\n",
    "\n"
   ]
  },
  {
   "cell_type": "code",
   "execution_count": 20,
   "id": "a5d9d72c-69c4-4c11-9401-7b0ecb2378e5",
   "metadata": {},
   "outputs": [
    {
     "data": {
      "text/html": [
       "<div>\n",
       "<style scoped>\n",
       "    .dataframe tbody tr th:only-of-type {\n",
       "        vertical-align: middle;\n",
       "    }\n",
       "\n",
       "    .dataframe tbody tr th {\n",
       "        vertical-align: top;\n",
       "    }\n",
       "\n",
       "    .dataframe thead th {\n",
       "        text-align: right;\n",
       "    }\n",
       "</style>\n",
       "<table border=\"1\" class=\"dataframe\">\n",
       "  <thead>\n",
       "    <tr style=\"text-align: right;\">\n",
       "      <th></th>\n",
       "      <th>label</th>\n",
       "      <th>title</th>\n",
       "      <th>content</th>\n",
       "      <th>cleaned_content_tr</th>\n",
       "      <th>sentiment</th>\n",
       "      <th>Sentiment_label</th>\n",
       "    </tr>\n",
       "  </thead>\n",
       "  <tbody>\n",
       "    <tr>\n",
       "      <th>0</th>\n",
       "      <td>0</td>\n",
       "      <td>Expensive Junk</td>\n",
       "      <td>This product consists of a piece of thin flexi...</td>\n",
       "      <td>product consists piece thin flexible insulatin...</td>\n",
       "      <td>0</td>\n",
       "      <td>NEGATIVE</td>\n",
       "    </tr>\n",
       "    <tr>\n",
       "      <th>1</th>\n",
       "      <td>0</td>\n",
       "      <td>Toast too dark</td>\n",
       "      <td>Even on the lowest setting, the toast is too d...</td>\n",
       "      <td>even lowest setting toast dark liking also lig...</td>\n",
       "      <td>0</td>\n",
       "      <td>NEGATIVE</td>\n",
       "    </tr>\n",
       "    <tr>\n",
       "      <th>2</th>\n",
       "      <td>1</td>\n",
       "      <td>Excellent imagery...dumbed down story</td>\n",
       "      <td>I enjoyed this disc. The video is stunning. I ...</td>\n",
       "      <td>enjoyed disc video stunning agree others story...</td>\n",
       "      <td>1</td>\n",
       "      <td>POSITIVE</td>\n",
       "    </tr>\n",
       "    <tr>\n",
       "      <th>3</th>\n",
       "      <td>0</td>\n",
       "      <td>Are we pretending everyone is married?</td>\n",
       "      <td>The authors pretend that parents neither die n...</td>\n",
       "      <td>author pretend parent neither die divorce insi...</td>\n",
       "      <td>0</td>\n",
       "      <td>NEGATIVE</td>\n",
       "    </tr>\n",
       "    <tr>\n",
       "      <th>4</th>\n",
       "      <td>0</td>\n",
       "      <td>Not worth your time</td>\n",
       "      <td>Might as well just use a knife, this product h...</td>\n",
       "      <td>might well use knife product hold next nothing...</td>\n",
       "      <td>0</td>\n",
       "      <td>NEGATIVE</td>\n",
       "    </tr>\n",
       "  </tbody>\n",
       "</table>\n",
       "</div>"
      ],
      "text/plain": [
       "   label                                   title  \\\n",
       "0      0                          Expensive Junk   \n",
       "1      0                          Toast too dark   \n",
       "2      1   Excellent imagery...dumbed down story   \n",
       "3      0  Are we pretending everyone is married?   \n",
       "4      0                     Not worth your time   \n",
       "\n",
       "                                             content  \\\n",
       "0  This product consists of a piece of thin flexi...   \n",
       "1  Even on the lowest setting, the toast is too d...   \n",
       "2  I enjoyed this disc. The video is stunning. I ...   \n",
       "3  The authors pretend that parents neither die n...   \n",
       "4  Might as well just use a knife, this product h...   \n",
       "\n",
       "                                  cleaned_content_tr  sentiment  \\\n",
       "0  product consists piece thin flexible insulatin...          0   \n",
       "1  even lowest setting toast dark liking also lig...          0   \n",
       "2  enjoyed disc video stunning agree others story...          1   \n",
       "3  author pretend parent neither die divorce insi...          0   \n",
       "4  might well use knife product hold next nothing...          0   \n",
       "\n",
       "  Sentiment_label  \n",
       "0        NEGATIVE  \n",
       "1        NEGATIVE  \n",
       "2        POSITIVE  \n",
       "3        NEGATIVE  \n",
       "4        NEGATIVE  "
      ]
     },
     "execution_count": 20,
     "metadata": {},
     "output_type": "execute_result"
    }
   ],
   "source": [
    "df_train = pd.read_csv(\"LLM_sentiment_tr.csv\")\n",
    "df_train['Sentiment_label'] = df_train['sentiment'].map({1: \"POSITIVE\", 0: \"NEGATIVE\"})\n",
    "df_train.head()"
   ]
  },
  {
   "cell_type": "code",
   "execution_count": 22,
   "id": "f609496f-a2cb-46fb-ba94-b2bf3d7fc139",
   "metadata": {},
   "outputs": [
    {
     "name": "stdout",
     "output_type": "stream",
     "text": [
      "Accuracy: 0.7783\n",
      "\n",
      "Classification Report:\n",
      "              precision    recall  f1-score   support\n",
      "\n",
      "    POSITIVE       0.72      0.90      0.80     50013\n",
      "    NEGATIVE       0.87      0.65      0.75     49987\n",
      "\n",
      "    accuracy                           0.78    100000\n",
      "   macro avg       0.80      0.78      0.77    100000\n",
      "weighted avg       0.80      0.78      0.77    100000\n",
      "\n"
     ]
    }
   ],
   "source": [
    "\n",
    "#Calculate train accuracy\n",
    "accuracy = accuracy_score(df_train['label'], df_train['sentiment'])\n",
    "report = classification_report(df_train['label'], df_train['sentiment'],\n",
    "                              target_names=['POSITIVE', 'NEGATIVE'])  # Match original label order\n",
    "\n",
    "print(f\"Accuracy: {accuracy:.4f}\")\n",
    "print(\"\\nClassification Report:\")\n",
    "print(report)"
   ]
  },
  {
   "cell_type": "markdown",
   "id": "31b9fb93-de5a-4a94-ab7e-db1ea437543b",
   "metadata": {},
   "source": [
    "### 1.9 Transformer Based Model Visualisation <a id=\"subsection9\"></a>"
   ]
  },
  {
   "cell_type": "markdown",
   "id": "076a01a1-a580-4af9-bc6f-6e69579fbfaa",
   "metadata": {},
   "source": [
    "## 2. Text Summarization <a id=\"section2\"></a>\n",
    "Comparing Text summarization results produced by traditional and Transformer Based Model."
   ]
  },
  {
   "cell_type": "markdown",
   "id": "0b42aed4-98c0-457c-b370-4ac7a7024d47",
   "metadata": {},
   "source": [
    "### 2.1 Importing Necessary Libraries and Loading Dataset <a id=\"subsection10\"></a>"
   ]
  },
  {
   "cell_type": "code",
   "execution_count": 23,
   "id": "42214e7a-a975-41d6-8e78-e6b7fc9d1833",
   "metadata": {},
   "outputs": [],
   "source": [
    "# importing necessary libraries\n",
    "import pandas as pd\n",
    "import numpy as np\n",
    "import nltk\n",
    "import sumy\n"
   ]
  },
  {
   "cell_type": "code",
   "execution_count": 24,
   "id": "16a0e613-e307-4e0f-bf63-633d3c99f2fe",
   "metadata": {},
   "outputs": [],
   "source": [
    "# Importing the datasets\n",
    "\n",
    "from datasets import load_dataset\n",
    "\n",
    "# Load a small sample of the dataset for testing\n",
    "dataset = load_dataset(\"cnn_dailymail\", '3.0.0', split='train[:100]')\n",
    "\n"
   ]
  },
  {
   "cell_type": "code",
   "execution_count": 25,
   "id": "345d881a-906c-4914-ac2a-a66f02d0fd92",
   "metadata": {},
   "outputs": [
    {
     "name": "stdout",
     "output_type": "stream",
     "text": [
      "{'article': 'LONDON, England (Reuters) -- Harry Potter star Daniel Radcliffe gains access to a reported £20 million ($41.1 million) fortune as he turns 18 on Monday, but he insists the money won\\'t cast a spell on him. Daniel Radcliffe as Harry Potter in \"Harry Potter and the Order of the Phoenix\" To the disappointment of gossip columnists around the world, the young actor says he has no plans to fritter his cash away on fast cars, drink and celebrity parties. \"I don\\'t plan to be one of those people who, as soon as they turn 18, suddenly buy themselves a massive sports car collection or something similar,\" he told an Australian interviewer earlier this month. \"I don\\'t think I\\'ll be particularly extravagant. \"The things I like buying are things that cost about 10 pounds -- books and CDs and DVDs.\" At 18, Radcliffe will be able to gamble in a casino, buy a drink in a pub or see the horror film \"Hostel: Part II,\" currently six places below his number one movie on the UK box office chart. Details of how he\\'ll mark his landmark birthday are under wraps. His agent and publicist had no comment on his plans. \"I\\'ll definitely have some sort of party,\" he said in an interview. \"Hopefully none of you will be reading about it.\" Radcliffe\\'s earnings from the first five Potter films have been held in a trust fund which he has not been able to touch. Despite his growing fame and riches, the actor says he is keeping his feet firmly on the ground. \"People are always looking to say \\'kid star goes off the rails,\\'\" he told reporters last month. \"But I try very hard not to go that way because it would be too easy for them.\" His latest outing as the boy wizard in \"Harry Potter and the Order of the Phoenix\" is breaking records on both sides of the Atlantic and he will reprise the role in the last two films.  Watch I-Reporter give her review of Potter\\'s latest » . There is life beyond Potter, however. The Londoner has filmed a TV movie called \"My Boy Jack,\" about author Rudyard Kipling and his son, due for release later this year. He will also appear in \"December Boys,\" an Australian film about four boys who escape an orphanage. Earlier this year, he made his stage debut playing a tortured teenager in Peter Shaffer\\'s \"Equus.\" Meanwhile, he is braced for even closer media scrutiny now that he\\'s legally an adult: \"I just think I\\'m going to be more sort of fair game,\" he told Reuters. E-mail to a friend . Copyright 2007 Reuters. All rights reserved.This material may not be published, broadcast, rewritten, or redistributed.', 'highlights': \"Harry Potter star Daniel Radcliffe gets £20M fortune as he turns 18 Monday .\\nYoung actor says he has no plans to fritter his cash away .\\nRadcliffe's earnings from first five Potter films have been held in trust fund .\", 'id': '42c027e4ff9730fbb3de84c1af0d2c506e41c3e4'}\n"
     ]
    }
   ],
   "source": [
    "# Printing the dataset\n",
    "print(dataset[0])"
   ]
  },
  {
   "cell_type": "code",
   "execution_count": 26,
   "id": "d6cbf2b9-3b5c-44e7-b9e6-96529a560aad",
   "metadata": {},
   "outputs": [
    {
     "name": "stderr",
     "output_type": "stream",
     "text": [
      "[nltk_data] Downloading package punkt to\n",
      "[nltk_data]     C:\\Users\\Krishnapriya\\AppData\\Roaming\\nltk_data...\n",
      "[nltk_data]   Package punkt is already up-to-date!\n"
     ]
    },
    {
     "name": "stdout",
     "output_type": "stream",
     "text": [
      "[\"LONDON, England (Reuters) -- Harry Potter star Daniel Radcliffe gains access to a reported £20 million ($41.1 million) fortune as he turns 18 on Monday, but he insists the money won't cast a spell on him.\", 'Daniel Radcliffe as Harry Potter in \"Harry Potter and the Order of the Phoenix\" To the disappointment of gossip columnists around the world, the young actor says he has no plans to fritter his cash away on fast cars, drink and celebrity parties.', '\"I don\\'t plan to be one of those people who, as soon as they turn 18, suddenly buy themselves a massive sports car collection or something similar,\" he told an Australian interviewer earlier this month.', '\"I don\\'t think I\\'ll be particularly extravagant.', '\"The things I like buying are things that cost about 10 pounds -- books and CDs and DVDs.\"']\n"
     ]
    }
   ],
   "source": [
    "nltk.download('punkt')\n",
    "from nltk.tokenize import sent_tokenize\n",
    "\n",
    "article = dataset[0]['article']\n",
    "summary = dataset[0]['highlights']\n",
    "\n",
    "sentences = sent_tokenize(article)\n",
    "print(sentences[:5])"
   ]
  },
  {
   "cell_type": "markdown",
   "id": "72064943-3844-42c6-aca4-051b0057a120",
   "metadata": {},
   "source": [
    "### 2.2 Traditional Text summarisation using Sumy <a id=\"subsection11\"></a>"
   ]
  },
  {
   "cell_type": "code",
   "execution_count": 4,
   "id": "c680e71d-e154-448b-895c-6b1301e71fd5",
   "metadata": {},
   "outputs": [
    {
     "name": "stdout",
     "output_type": "stream",
     "text": [
      "Extractive Summary:\n",
      " Daniel Radcliffe as Harry Potter in \"Harry Potter and the Order of the Phoenix\" To the disappointment of gossip columnists around the world, the young actor says he has no plans to fritter his cash away on fast cars, drink and celebrity parties. At 18, Radcliffe will be able to gamble in a casino, buy a drink in a pub or see the horror film \"Hostel: Part II,\" currently six places below his number one movie on the UK box office chart. His latest outing as the boy wizard in \"Harry Potter and the Order of the Phoenix\" is breaking records on both sides of the Atlantic and he will reprise the role in the last two films.\n"
     ]
    }
   ],
   "source": [
    "# applying Extractive summarization\n",
    "from sumy.parsers.plaintext import PlaintextParser\n",
    "from sumy.nlp.tokenizers import Tokenizer\n",
    "from sumy.summarizers.text_rank import TextRankSummarizer\n",
    "\n",
    "def textrank_summary(text, num_sentences=3):\n",
    "    parser = PlaintextParser.from_string(text, Tokenizer(\"english\"))\n",
    "    summarizer = TextRankSummarizer()\n",
    "    summary = summarizer(parser.document, num_sentences)\n",
    "    return \" \".join(str(sentence) for sentence in summary)\n",
    "\n",
    "# Example usage\n",
    "extractive_summary = textrank_summary(article, num_sentences=3)\n",
    "print(\"Extractive Summary:\\n\", extractive_summary)\n"
   ]
  },
  {
   "cell_type": "code",
   "execution_count": 11,
   "id": "1d4b6ecd-64cc-4d51-8389-5a75e3ca2e81",
   "metadata": {},
   "outputs": [
    {
     "name": "stdout",
     "output_type": "stream",
     "text": [
      "ROUGE Scores:\n",
      " {'rouge1': Score(precision=0.19491525423728814, recall=0.5897435897435898, fmeasure=0.2929936305732484), 'rouge2': Score(precision=0.1111111111111111, recall=0.34210526315789475, fmeasure=0.16774193548387095), 'rougeL': Score(precision=0.15254237288135594, recall=0.46153846153846156, fmeasure=0.22929936305732485)}\n"
     ]
    }
   ],
   "source": [
    "from rouge_score import rouge_scorer\n",
    "\n",
    "scorer = rouge_scorer.RougeScorer(['rouge1', 'rouge2', 'rougeL'], use_stemmer=True)\n",
    "scores = scorer.score(summary, extractive_summary)\n",
    "\n",
    "print(\"ROUGE Scores:\\n\", scores)\n"
   ]
  },
  {
   "cell_type": "markdown",
   "id": "831c32cd-1950-407d-8516-eaf23a5700c3",
   "metadata": {},
   "source": [
    "### 2.3 Transformer-based model/ GPT based model for text Summarisation <a id=\"section12\"></a>"
   ]
  },
  {
   "cell_type": "code",
   "execution_count": 13,
   "id": "84f306f5-039f-4fe3-a463-1b1a21bdf3f1",
   "metadata": {},
   "outputs": [],
   "source": [
    "from datasets import load_dataset\n",
    "\n",
    "# Load dataset\n",
    "dataset = load_dataset(\"cnn_dailymail\", \"3.0.0\")\n",
    "train_data = dataset[\"train\"].select(range(100))  # use 100 samples for quick testing\n"
   ]
  },
  {
   "cell_type": "code",
   "execution_count": 1,
   "id": "d3ccc3cc-77a0-4837-8b09-054cf16a1ee7",
   "metadata": {},
   "outputs": [],
   "source": [
    "# Import Transformer Model\n",
    "from transformers import BartTokenizer, BartForConditionalGeneration\n",
    "\n",
    "# Intialise Bart tokenizer and model\n",
    "tokenizer = BartTokenizer.from_pretrained(\"facebook/bart-large-cnn\")\n",
    "model = BartForConditionalGeneration.from_pretrained(\"facebook/bart-large-cnn\")\n"
   ]
  },
  {
   "cell_type": "code",
   "execution_count": 2,
   "id": "683b4583-df77-4f03-957a-91674136308e",
   "metadata": {},
   "outputs": [
    {
     "name": "stderr",
     "output_type": "stream",
     "text": [
      "C:\\Users\\Krishnapriya\\anaconda3\\Lib\\site-packages\\transformers\\modeling_utils.py:3852: UserWarning: Moving the following attributes in the config to the generation config: {'max_length': 142, 'min_length': 56, 'early_stopping': True, 'num_beams': 4, 'length_penalty': 2.0, 'no_repeat_ngram_size': 3, 'forced_bos_token_id': 0}. You are seeing this warning because you've set generation parameters in the model config, as opposed to in the generation config.\n",
      "  warnings.warn(\n"
     ]
    },
    {
     "data": {
      "text/plain": [
       "('transformer_summarizer\\\\tokenizer_config.json',\n",
       " 'transformer_summarizer\\\\special_tokens_map.json',\n",
       " 'transformer_summarizer\\\\vocab.json',\n",
       " 'transformer_summarizer\\\\merges.txt',\n",
       " 'transformer_summarizer\\\\added_tokens.json')"
      ]
     },
     "execution_count": 2,
     "metadata": {},
     "output_type": "execute_result"
    }
   ],
   "source": [
    "# saving the models\n",
    "model.save_pretrained(\"transformer_summarizer\")\n",
    "tokenizer.save_pretrained(\"transformer_summarizer\")"
   ]
  },
  {
   "cell_type": "code",
   "execution_count": 7,
   "id": "b14c1e8b-4a85-475a-8fb1-36e5486ba3e1",
   "metadata": {},
   "outputs": [],
   "source": [
    "# tokeniser articles\n",
    "article = train_data[0]['article']\n",
    "\n",
    "# tokenising the article data\n",
    "inputs = tokenizer([article], max_length = 1024, return_tensors='pt', truncation = True)"
   ]
  },
  {
   "cell_type": "code",
   "execution_count": 8,
   "id": "82c1ac16-2533-401f-85f0-2fb7d97b8661",
   "metadata": {},
   "outputs": [
    {
     "name": "stdout",
     "output_type": "stream",
     "text": [
      "Harry Potter star Daniel Radcliffe turns 18 on Monday. He gains access to a reported £20 million ($41.1 million) fortune. Radcliffe's earnings from the first five Potter films have been held in a trust fund.\n"
     ]
    }
   ],
   "source": [
    "# Generate summary using model\n",
    "summary_ids = model.generate(inputs[\"input_ids\"], max_length=150, min_length=40, length_penalty=2.0, num_beams=4, early_stopping=True)\n",
    "\n",
    "summary = tokenizer.decode(summary_ids[0], skip_special_tokens=True)\n",
    "print(summary)\n"
   ]
  },
  {
   "cell_type": "markdown",
   "id": "d9efd345-70e9-43e4-9aa6-e25b82cf1375",
   "metadata": {},
   "source": [
    "### 2.4 Evaluation for Text summarisation for Traditional model <a id=\"section13\"></a>"
   ]
  },
  {
   "cell_type": "code",
   "execution_count": 13,
   "id": "948ad686-4b2b-46e6-9c03-7084125debf6",
   "metadata": {},
   "outputs": [],
   "source": [
    "import warnings\n",
    "warnings.filterwarnings('ignore')"
   ]
  },
  {
   "cell_type": "code",
   "execution_count": 7,
   "id": "bf66825f-acac-4ea1-947e-7bd61064af19",
   "metadata": {},
   "outputs": [
    {
     "name": "stdout",
     "output_type": "stream",
     "text": [
      "Tfidf Cosine Similarity: 0.74\n"
     ]
    }
   ],
   "source": [
    "# Cosine Similarity for Content Relevance\n",
    "\n",
    "from sklearn.feature_extraction.text import TfidfVectorizer\n",
    "from sklearn.metrics.pairwise import cosine_similarity\n",
    "\n",
    "# Intialize Vectoriser\n",
    "vectorizer = TfidfVectorizer()\n",
    "vectors = vectorizer.fit_transform([article,extractive_summary])\n",
    "similarity_score = cosine_similarity(vectors[0:1], vectors[1:2])\n",
    "print(\"Tfidf Cosine Similarity:\", round(similarity_score[0][0],2))\n",
    "\n",
    "vector_2 = vectoriser.fit_transform([article, summary])\n",
    "simmlarity_score_2 = cosine_similarity(vector_2[0:1], vector_2[1:2])\n",
    "\n"
   ]
  },
  {
   "cell_type": "code",
   "execution_count": 8,
   "id": "7fed844f-5c74-48d4-8836-7e311f001ab0",
   "metadata": {},
   "outputs": [
    {
     "name": "stdout",
     "output_type": "stream",
     "text": [
      "Semantic Similarity: 0.8152716159820557\n"
     ]
    }
   ],
   "source": [
    "# Sentence Transformer Embeddings for better semantic similarity\n",
    "\n",
    "from sentence_transformers import SentenceTransformer, util\n",
    "\n",
    "model = SentenceTransformer('all-MiniLM-L6-v2')\n",
    "embeddings = model.encode([article, extractive_summary], convert_to_tensor = True)\n",
    "score = util.cos_sim(embeddings[0], embeddings[1])\n",
    "print(\"Semantic Similarity:\", score.item())\n",
    "\n",
    "embe"
   ]
  },
  {
   "cell_type": "markdown",
   "id": "4a76fb3d-2211-47ea-852d-8e41528f185a",
   "metadata": {},
   "source": [
    "**Flesch reading ease:** A measure of how easy or difficult a piece of text is to understand. A higher score (closer to 100) indicates easier readability, while a lower score (closer to 0) suggests more complex text.   \n"
   ]
  },
  {
   "cell_type": "code",
   "execution_count": 9,
   "id": "38f5cff0-3dd2-4568-ac26-b85d9038fe99",
   "metadata": {},
   "outputs": [
    {
     "name": "stdout",
     "output_type": "stream",
     "text": [
      "Flesch Reading Ease Score: 47.18\n"
     ]
    }
   ],
   "source": [
    "# TextStat Readability scores\n",
    "import textstat\n",
    "\n",
    "flesch_score = textstat.flesch_reading_ease(extractive_summary)\n",
    "print(\"Flesch Reading Ease Score:\", round(flesch_score,2))"
   ]
  },
  {
   "cell_type": "code",
   "execution_count": 10,
   "id": "91bd6856-4f4e-41f8-a7db-7ba60da52df9",
   "metadata": {},
   "outputs": [
    {
     "name": "stdout",
     "output_type": "stream",
     "text": [
      "Grammar Score: 99.153\n"
     ]
    }
   ],
   "source": [
    "# Grammer Score using language tool python\n",
    "# Grammar check\n",
    "import language_tool_python\n",
    "\n",
    "def grammar_score(text):\n",
    "    tool = language_tool_python.LanguageTool('en-GB')\n",
    "    matches = tool.check(text)\n",
    "    error_count = len(matches)\n",
    "    word_count = len(text.split())\n",
    "    score = (1 - error_count / word_count) * 100 if word_count > 0 else 0.0\n",
    "    return round(score, 3)\n",
    "\n",
    "print(\"Grammar Score:\", grammar_score(extractive_summary))"
   ]
  },
  {
   "cell_type": "code",
   "execution_count": 11,
   "id": "ac65bef6-fa48-412c-9943-c5be7ccf7c0f",
   "metadata": {},
   "outputs": [
    {
     "name": "stdout",
     "output_type": "stream",
     "text": [
      "Lexical Diversity: 0.6779661016949152\n"
     ]
    }
   ],
   "source": [
    "# Lexical Diversity\n",
    "\n",
    "def lexical_diversity(text):\n",
    "    words = text.split()\n",
    "    return len(set(words)) / len(words)\n",
    "\n",
    "print(\"Lexical Diversity:\", lexical_diversity(extractive_summary))"
   ]
  },
  {
   "cell_type": "code",
   "execution_count": 12,
   "id": "ec61d39a-25da-4c2d-9631-f9de5d09217a",
   "metadata": {},
   "outputs": [
    {
     "name": "stdout",
     "output_type": "stream",
     "text": [
      "Compression Ratio: 0.25934065934065936\n"
     ]
    }
   ],
   "source": [
    "# Compress Ratio - Helps understand if the summary is long or short\n",
    "\n",
    "compression_ratio = len(extractive_summary.split())/len(article.split())\n",
    "\n",
    "print(\"Compression Ratio:\", compression_ratio)\n"
   ]
  },
  {
   "cell_type": "code",
   "execution_count": 17,
   "id": "15950de4-4c2a-4b5a-9bc2-e84f6b65e99e",
   "metadata": {},
   "outputs": [
    {
     "name": "stdout",
     "output_type": "stream",
     "text": [
      "Article Sentiment: 0.09\n",
      "Summary Sentiment: 0.1\n"
     ]
    }
   ],
   "source": [
    "# Sentiment Consistency - Sentiment of the summary matches the article\n",
    "from textblob import TextBlob \n",
    "\n",
    "article_sentiment = TextBlob(article).sentiment.polarity\n",
    "summary_sentiment = TextBlob(extractive_summary).sentiment.polarity\n",
    "\n",
    "print(\"Article Sentiment:\", round(article_sentiment,2))\n",
    "print(\"Summary Sentiment:\", round(summary_sentiment,2))"
   ]
  },
  {
   "cell_type": "code",
   "execution_count": 20,
   "id": "1f25254f-2b29-4048-a175-40df25ca6764",
   "metadata": {},
   "outputs": [
    {
     "name": "stdout",
     "output_type": "stream",
     "text": [
      "Repetition Score: 0.4830508474576271\n"
     ]
    }
   ],
   "source": [
    "# Repetition and Redundancy\n",
    "from collections import Counter\n",
    "\n",
    "def repetition_score(text):\n",
    "    words = text.lower().split()\n",
    "    words_count = Counter(words)\n",
    "    repeated = [count for word, count in words_count.items() if count > 1]\n",
    "    return sum(repeated) / len(words)\n",
    "\n",
    "print(\"Repetition Score:\", repetition_score(extractive_summary))"
   ]
  },
  {
   "cell_type": "code",
   "execution_count": 37,
   "id": "ab9ac6ab-881b-4421-a62e-f14703c6f8a3",
   "metadata": {},
   "outputs": [],
   "source": [
    "# Initialize the result storage DataFrame\n",
    "import warnings\n",
    "warnings.filterwarnings('ignore')\n",
    "from collections import Counter\n",
    "from textblob import TextBlob \n",
    "import language_tool_python\n",
    "import textstat\n",
    "from sklearn.preprocessing import MinMaxScaler\n",
    "from sklearn.metrics.pairwise import cosine_similarity\n",
    "from sentence_transformers import SentenceTransformer, util\n",
    "from sklearn.feature_extraction.text import TfidfVectorizer\n",
    "model = SentenceTransformer('all-MiniLM-L6-v2')\n",
    "\n",
    "evaluation_df = pd.DataFrame(columns=[\n",
    "    'article', 'summary',\n",
    "    'tfidf_similarity',\n",
    "    'semantic_similarity',\n",
    "    'lexical_diversity',\n",
    "    'compression_ratio',\n",
    "    'article_sentiment',\n",
    "    'summary_sentiment',\n",
    "    'sentiment_diff',\n",
    "    'repetition_score',\n",
    "    'readability_score',\n",
    "    'model_used'\n",
    "])\n",
    "\n",
    "def evaluate_summary(article, summary, model_type='Unknown'):\n",
    "    global evaluation_df  # to keep appending results\n",
    "\n",
    "    # TF-IDF Cosine Similarity\n",
    "    tfidf_vectorizer = TfidfVectorizer()\n",
    "    vectors = tfidf_vectorizer.fit_transform([article, summary])\n",
    "    tfidf_score = cosine_similarity(vectors[0:1], vectors[1:2])[0][0]\n",
    "\n",
    "    # Semantic Similarity using SBERT\n",
    "    embeddings = model.encode([article, summary], convert_to_tensor=True)\n",
    "    semantic_score = util.cos_sim(embeddings[0], embeddings[1]).item()\n",
    "\n",
    "    # Lexical Diversity\n",
    "    words = summary.split()\n",
    "    lex_div = len(set(words)) / len(words) if words else 0\n",
    "\n",
    "    # Compression Ratio\n",
    "    compress = len(summary.split()) / len(article.split()) if article.split() else 0\n",
    "\n",
    "    # Sentiment Polarity\n",
    "    sentiment_article = TextBlob(article).sentiment.polarity\n",
    "    sentiment_summary = TextBlob(summary).sentiment.polarity\n",
    "    sentiment_diff = abs(sentiment_article - sentiment_summary)\n",
    "\n",
    "    # Repetition Score\n",
    "    word_counts = Counter([w.lower() for w in words])\n",
    "    repeated = [count for word, count in word_counts.items() if count > 1]\n",
    "    repeat_score = sum(repeated) / len(words) if words else 0\n",
    "\n",
    "    # Readability\n",
    "    readability = textstat.flesch_reading_ease(summary)\n",
    "    readability_score = readability/100\n",
    "\n",
    "    # Final result row\n",
    "    row = {\n",
    "        'article': article,\n",
    "        'summary': summary,\n",
    "        'tfidf_similarity': tfidf_score,\n",
    "        'semantic_similarity': semantic_score,\n",
    "        'lexical_diversity': lex_div,\n",
    "        'compression_ratio': compress,\n",
    "        'article_sentiment': sentiment_article,\n",
    "        'summary_sentiment': sentiment_summary,\n",
    "        'sentiment_diff': sentiment_diff,\n",
    "        'repetition_score': repeat_score,\n",
    "        'readability_score': readability_score,\n",
    "        'model_used': model_type\n",
    "    }\n",
    "\n",
    "    # Append to DataFrame\n",
    "    evaluation_df = pd.concat([evaluation_df, pd.DataFrame([row])], ignore_index=True)\n",
    "    \n"
   ]
  },
  {
   "cell_type": "code",
   "execution_count": 38,
   "id": "e0023b8d-41ee-4a11-b92b-8560e81df94e",
   "metadata": {},
   "outputs": [],
   "source": [
    "evaluate_summary(article, extractive_summary, model_type=\"Traditional\")\n"
   ]
  },
  {
   "cell_type": "code",
   "execution_count": 39,
   "id": "aac5b89b-2424-4e95-9d0d-99e43ea90507",
   "metadata": {},
   "outputs": [],
   "source": [
    "evaluate_summary(article,summary, model_type = \"GPT\")"
   ]
  },
  {
   "cell_type": "code",
   "execution_count": 40,
   "id": "06fa8fca-9be0-4b5e-b5a7-a16e0f31df3f",
   "metadata": {},
   "outputs": [],
   "source": [
    "evaluation_df.to_csv(\"Text_summarise_metrics.csv\")"
   ]
  },
  {
   "cell_type": "code",
   "execution_count": 42,
   "id": "31e03c15-496b-4ce5-949f-0825d83266da",
   "metadata": {},
   "outputs": [
    {
     "data": {
      "text/html": [
       "<div>\n",
       "<style scoped>\n",
       "    .dataframe tbody tr th:only-of-type {\n",
       "        vertical-align: middle;\n",
       "    }\n",
       "\n",
       "    .dataframe tbody tr th {\n",
       "        vertical-align: top;\n",
       "    }\n",
       "\n",
       "    .dataframe thead th {\n",
       "        text-align: right;\n",
       "    }\n",
       "</style>\n",
       "<table border=\"1\" class=\"dataframe\">\n",
       "  <thead>\n",
       "    <tr style=\"text-align: right;\">\n",
       "      <th></th>\n",
       "      <th>article</th>\n",
       "      <th>summary</th>\n",
       "      <th>tfidf_similarity</th>\n",
       "      <th>semantic_similarity</th>\n",
       "      <th>lexical_diversity</th>\n",
       "      <th>compression_ratio</th>\n",
       "      <th>article_sentiment</th>\n",
       "      <th>summary_sentiment</th>\n",
       "      <th>sentiment_diff</th>\n",
       "      <th>repetition_score</th>\n",
       "      <th>readability_score</th>\n",
       "      <th>model_used</th>\n",
       "    </tr>\n",
       "  </thead>\n",
       "  <tbody>\n",
       "    <tr>\n",
       "      <th>0</th>\n",
       "      <td>LONDON, England (Reuters) -- Harry Potter star...</td>\n",
       "      <td>Daniel Radcliffe as Harry Potter in \"Harry Pot...</td>\n",
       "      <td>0.743093</td>\n",
       "      <td>0.815272</td>\n",
       "      <td>0.677966</td>\n",
       "      <td>0.259341</td>\n",
       "      <td>0.094684</td>\n",
       "      <td>0.10</td>\n",
       "      <td>0.005316</td>\n",
       "      <td>0.483051</td>\n",
       "      <td>0.471812</td>\n",
       "      <td>Traditional</td>\n",
       "    </tr>\n",
       "    <tr>\n",
       "      <th>1</th>\n",
       "      <td>LONDON, England (Reuters) -- Harry Potter star...</td>\n",
       "      <td>Harry Potter star Daniel Radcliffe turns 18 on...</td>\n",
       "      <td>0.373150</td>\n",
       "      <td>0.785261</td>\n",
       "      <td>0.942857</td>\n",
       "      <td>0.076923</td>\n",
       "      <td>0.094684</td>\n",
       "      <td>0.25</td>\n",
       "      <td>0.155316</td>\n",
       "      <td>0.114286</td>\n",
       "      <td>0.770966</td>\n",
       "      <td>GPT</td>\n",
       "    </tr>\n",
       "  </tbody>\n",
       "</table>\n",
       "</div>"
      ],
      "text/plain": [
       "                                             article  \\\n",
       "0  LONDON, England (Reuters) -- Harry Potter star...   \n",
       "1  LONDON, England (Reuters) -- Harry Potter star...   \n",
       "\n",
       "                                             summary  tfidf_similarity  \\\n",
       "0  Daniel Radcliffe as Harry Potter in \"Harry Pot...          0.743093   \n",
       "1  Harry Potter star Daniel Radcliffe turns 18 on...          0.373150   \n",
       "\n",
       "   semantic_similarity  lexical_diversity  compression_ratio  \\\n",
       "0             0.815272           0.677966           0.259341   \n",
       "1             0.785261           0.942857           0.076923   \n",
       "\n",
       "   article_sentiment  summary_sentiment  sentiment_diff  repetition_score  \\\n",
       "0           0.094684               0.10        0.005316          0.483051   \n",
       "1           0.094684               0.25        0.155316          0.114286   \n",
       "\n",
       "   readability_score   model_used  \n",
       "0           0.471812  Traditional  \n",
       "1           0.770966          GPT  "
      ]
     },
     "execution_count": 42,
     "metadata": {},
     "output_type": "execute_result"
    }
   ],
   "source": [
    "evaluation_df.head()"
   ]
  },
  {
   "cell_type": "markdown",
   "id": "6715c211-8a22-4f6f-8a2c-a5c9be566177",
   "metadata": {},
   "source": [
    "### 2.5 Visualisation and Insights <a id=\"section14\"></a>"
   ]
  },
  {
   "cell_type": "code",
   "execution_count": 44,
   "id": "40b062d4-4b63-41d4-9dad-b0179969400b",
   "metadata": {},
   "outputs": [
    {
     "data": {
      "image/png": "[encoded data removed]",
      "text/plain": [
       "<Figure size 1600x800 with 1 Axes>"
      ]
     },
     "metadata": {},
     "output_type": "display_data"
    }
   ],
   "source": [
    "# visualising the evaluation metrics\n",
    "import matplotlib.pyplot as plt\n",
    "import seaborn as sns\n",
    "\n",
    "metric_cols = [\n",
    "    'tfidf_similarity', 'semantic_similarity', 'lexical_diversity',\n",
    "    'compression_ratio', 'article_sentiment', 'summary_sentiment', 'repetition_score', 'readability_score']\n",
    "\n",
    "melted_df = evaluation_df.melt(id_vars='model_used', value_vars=metric_cols,\n",
    "                               var_name='Metric', value_name='Score')\n",
    "\n",
    "plt.figure(figsize=(16, 8))\n",
    "sns.barplot(data=melted_df, x='Metric', y='Score', hue='model_used', palette = 'coolwarm')\n",
    "plt.xticks(rotation=45)\n",
    "plt.title('Evaluation Metrics Comparison by Model Type')\n",
    "plt.tight_layout()\n",
    "plt.show()\n",
    "\n"
   ]
  },
  {
   "cell_type": "markdown",
   "id": "3c158d72-205e-4d6b-be65-581e2cac571d",
   "metadata": {},
   "source": [
    "### Insights\n",
    "\n",
    "- **TF-IDF Similarity:**  The extractive model preserves original word usage better, leading to higher overlap with the article text. \n",
    "- **Semantic Similarity:**  Both models capture overall meaning well; GPT shows slight loss possibly due to abstraction.                \n",
    "- **Lexical Diversity:** GPT generates more diverse vocabulary, which is typical of abstractive models.                              \n",
    "- **Compression Ratio:** Traditional summaries are more verbose; GPT compresses content more aggressively (more concise summaries).  \n",
    "- **Article Sentiment:** Base article sentiment is the same (expected).                                                              \n",
    "- **Summary Sentiment** GPT may slightly change tone (more positive/subjective), while Traditional tends to copy original tone.     \n",
    "- **Repetition Score:**  Traditional has more redundancy, GPT avoids repetition better (likely due to controlled generation).        \n",
    "- **Readability Score:** GPT summaries are easier to read, likely more fluent and coherent.                                             \n",
    "\n",
    "In a whole, Traditional models (e.g., extractive) are better at maintaining factual accuracy, word overlap, and structural fidelity. GPT-based models offer more diverse, fluent, and readable outputs, with better compression and less repetition — making them better for user-facing applications.\n",
    "Depending on the use-case, you may prefer:\n",
    "- Traditional: For fact-heavy or technical documents\n",
    "- GPT: For news, blogs, or general reading where readability and flow matter more"
   ]
  },
  {
   "cell_type": "code",
   "execution_count": null,
   "id": "d9ffca1e-d8bd-4182-8c1e-77d49f9e3dd4",
   "metadata": {},
   "outputs": [],
   "source": []
  }
 ],
 "metadata": {
  "kernelspec": {
   "display_name": "Python 3 (ipykernel)",
   "language": "python",
   "name": "python3"
  },
  "language_info": {
   "codemirror_mode": {
    "name": "ipython",
    "version": 3
   },
   "file_extension": ".py",
   "mimetype": "text/x-python",
   "name": "python",
   "nbconvert_exporter": "python",
   "pygments_lexer": "ipython3",
   "version": "3.13.5"
  }
 },
 "nbformat": 4,
 "nbformat_minor": 5
}
